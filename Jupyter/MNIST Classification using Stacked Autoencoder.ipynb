{
  "nbformat": 4,
  "nbformat_minor": 0,
  "metadata": {
    "colab": {
      "name": "18BCE143_practical_6_stacked_autoencoder.ipynb",
      "provenance": [],
      "collapsed_sections": []
    },
    "kernelspec": {
      "name": "python3",
      "display_name": "Python 3"
    },
    "accelerator": "GPU"
  },
  "cells": [
    {
      "cell_type": "code",
      "metadata": {
        "id": "8qvX-8VBN-JG"
      },
      "source": [
        "import tensorflow as tf\n",
        "import numpy as np\n",
        "from sklearn.metrics import accuracy_score\n",
        "from tensorflow.keras.layers import Conv2D,Dense,MaxPooling2D,Flatten,Input\n",
        "from tensorflow.keras import Model,Sequential\n",
        "from tensorflow.keras.utils import to_categorical\n",
        "from keras.preprocessing import image\n",
        "from tensorflow.image import rgb_to_grayscale\n",
        "from tensorflow.keras.utils import to_categorical\n",
        "from matplotlib import pyplot as plt"
      ],
      "execution_count": null,
      "outputs": []
    },
    {
      "cell_type": "code",
      "metadata": {
        "colab": {
          "base_uri": "https://localhost:8080/"
        },
        "id": "U6sHGm89OHZ3",
        "outputId": "c705b865-ebd6-48e5-e493-9e7e18a283fc"
      },
      "source": [
        "(X_train,y_train),(X_test,y_test) = tf.keras.datasets.mnist.load_data()"
      ],
      "execution_count": null,
      "outputs": [
        {
          "output_type": "stream",
          "text": [
            "Downloading data from https://storage.googleapis.com/tensorflow/tf-keras-datasets/mnist.npz\n",
            "11493376/11490434 [==============================] - 0s 0us/step\n"
          ],
          "name": "stdout"
        }
      ]
    },
    {
      "cell_type": "code",
      "metadata": {
        "colab": {
          "base_uri": "https://localhost:8080/"
        },
        "id": "sY5DvZs0OLnH",
        "outputId": "42cdd02d-6f33-4d86-d68e-d729f343bbad"
      },
      "source": [
        "print(\"Number of image in train set :-\",X_train.shape[0])\n",
        "print(\"Number of image in test set :-\",X_test.shape[0])\n",
        "print(\"Resolution of image :-\",X_train.shape[1],'*',X_train.shape[2])"
      ],
      "execution_count": null,
      "outputs": [
        {
          "output_type": "stream",
          "text": [
            "Number of image in train set :- 60000\n",
            "Number of image in test set :- 10000\n",
            "Resolution of image :- 28 * 28\n"
          ],
          "name": "stdout"
        }
      ]
    },
    {
      "cell_type": "code",
      "metadata": {
        "id": "lmll3KW9OXnQ"
      },
      "source": [
        "X_train = X_train / 255.0\n",
        "X_test = X_test / 255.0"
      ],
      "execution_count": null,
      "outputs": []
    },
    {
      "cell_type": "code",
      "metadata": {
        "id": "qAHL0eAIOcZm"
      },
      "source": [
        "X_train = X_train.astype('float32').reshape((X_train.shape[0], 784))\n",
        "X_test = X_test.astype('float32').reshape((X_test.shape[0], 784))"
      ],
      "execution_count": null,
      "outputs": []
    },
    {
      "cell_type": "code",
      "metadata": {
        "id": "p9owPa3ROTnQ"
      },
      "source": [
        "input_img = Input(shape=(784,))\n",
        "layer_1 = Dense(100,activation='relu')(input_img)\n",
        "layer_2 = Dense(10,activation='relu')(layer_1)\n",
        "layer_3 = Dense(100,activation='relu')(layer_2)\n",
        "output = Dense(784,activation='relu')(layer_3)"
      ],
      "execution_count": null,
      "outputs": []
    },
    {
      "cell_type": "code",
      "metadata": {
        "colab": {
          "base_uri": "https://localhost:8080/"
        },
        "id": "FEE4kD8DQNMv",
        "outputId": "86932329-9a12-4a99-8e8d-cf146ffdbb6a"
      },
      "source": [
        "model = Model(inputs=input_img,outputs=output)\n",
        "model.summary()"
      ],
      "execution_count": null,
      "outputs": [
        {
          "output_type": "stream",
          "text": [
            "Model: \"model\"\n",
            "_________________________________________________________________\n",
            "Layer (type)                 Output Shape              Param #   \n",
            "=================================================================\n",
            "input_1 (InputLayer)         [(None, 784)]             0         \n",
            "_________________________________________________________________\n",
            "dense (Dense)                (None, 100)               78500     \n",
            "_________________________________________________________________\n",
            "dense_1 (Dense)              (None, 10)                1010      \n",
            "_________________________________________________________________\n",
            "dense_2 (Dense)              (None, 100)               1100      \n",
            "_________________________________________________________________\n",
            "dense_3 (Dense)              (None, 784)               79184     \n",
            "=================================================================\n",
            "Total params: 159,794\n",
            "Trainable params: 159,794\n",
            "Non-trainable params: 0\n",
            "_________________________________________________________________\n"
          ],
          "name": "stdout"
        }
      ]
    },
    {
      "cell_type": "code",
      "metadata": {
        "id": "IeLY2vrAQbDr"
      },
      "source": [
        "model.compile(optimizer='adam',loss='mse',metrics=['accuracy'])"
      ],
      "execution_count": null,
      "outputs": []
    },
    {
      "cell_type": "code",
      "metadata": {
        "colab": {
          "base_uri": "https://localhost:8080/"
        },
        "id": "_W947hxCQkKN",
        "outputId": "dd3860b6-aea1-4f86-aecf-04342c06afc0"
      },
      "source": [
        "history = model.fit(X_train,X_train,epochs=150,batch_size=32,validation_data=(X_test,X_test))"
      ],
      "execution_count": null,
      "outputs": [
        {
          "output_type": "stream",
          "text": [
            "Epoch 1/150\n",
            "1875/1875 [==============================] - 7s 2ms/step - loss: 0.0407 - accuracy: 0.0097 - val_loss: 0.0275 - val_accuracy: 0.0096\n",
            "Epoch 2/150\n",
            "1875/1875 [==============================] - 4s 2ms/step - loss: 0.0273 - accuracy: 0.0092 - val_loss: 0.0257 - val_accuracy: 0.0111\n",
            "Epoch 3/150\n",
            "1875/1875 [==============================] - 4s 2ms/step - loss: 0.0256 - accuracy: 0.0100 - val_loss: 0.0247 - val_accuracy: 0.0084\n",
            "Epoch 4/150\n",
            "1875/1875 [==============================] - 4s 2ms/step - loss: 0.0246 - accuracy: 0.0113 - val_loss: 0.0234 - val_accuracy: 0.0132\n",
            "Epoch 5/150\n",
            "1875/1875 [==============================] - 4s 2ms/step - loss: 0.0235 - accuracy: 0.0110 - val_loss: 0.0227 - val_accuracy: 0.0140\n",
            "Epoch 6/150\n",
            "1875/1875 [==============================] - 4s 2ms/step - loss: 0.0228 - accuracy: 0.0117 - val_loss: 0.0223 - val_accuracy: 0.0131\n",
            "Epoch 7/150\n",
            "1875/1875 [==============================] - 4s 2ms/step - loss: 0.0225 - accuracy: 0.0115 - val_loss: 0.0221 - val_accuracy: 0.0122\n",
            "Epoch 8/150\n",
            "1875/1875 [==============================] - 4s 2ms/step - loss: 0.0222 - accuracy: 0.0115 - val_loss: 0.0219 - val_accuracy: 0.0117\n",
            "Epoch 9/150\n",
            "1875/1875 [==============================] - 4s 2ms/step - loss: 0.0220 - accuracy: 0.0112 - val_loss: 0.0217 - val_accuracy: 0.0109\n",
            "Epoch 10/150\n",
            "1875/1875 [==============================] - 4s 2ms/step - loss: 0.0218 - accuracy: 0.0123 - val_loss: 0.0215 - val_accuracy: 0.0124\n",
            "Epoch 11/150\n",
            "1875/1875 [==============================] - 4s 2ms/step - loss: 0.0216 - accuracy: 0.0119 - val_loss: 0.0215 - val_accuracy: 0.0135\n",
            "Epoch 12/150\n",
            "1875/1875 [==============================] - 4s 2ms/step - loss: 0.0215 - accuracy: 0.0115 - val_loss: 0.0213 - val_accuracy: 0.0110\n",
            "Epoch 13/150\n",
            "1875/1875 [==============================] - 4s 2ms/step - loss: 0.0213 - accuracy: 0.0120 - val_loss: 0.0211 - val_accuracy: 0.0142\n",
            "Epoch 14/150\n",
            "1875/1875 [==============================] - 4s 2ms/step - loss: 0.0212 - accuracy: 0.0120 - val_loss: 0.0211 - val_accuracy: 0.0136\n",
            "Epoch 15/150\n",
            "1875/1875 [==============================] - 4s 2ms/step - loss: 0.0212 - accuracy: 0.0128 - val_loss: 0.0210 - val_accuracy: 0.0108\n",
            "Epoch 16/150\n",
            "1875/1875 [==============================] - 4s 2ms/step - loss: 0.0210 - accuracy: 0.0128 - val_loss: 0.0209 - val_accuracy: 0.0102\n",
            "Epoch 17/150\n",
            "1875/1875 [==============================] - 4s 2ms/step - loss: 0.0210 - accuracy: 0.0124 - val_loss: 0.0209 - val_accuracy: 0.0136\n",
            "Epoch 18/150\n",
            "1875/1875 [==============================] - 4s 2ms/step - loss: 0.0209 - accuracy: 0.0121 - val_loss: 0.0208 - val_accuracy: 0.0111\n",
            "Epoch 19/150\n",
            "1875/1875 [==============================] - 4s 2ms/step - loss: 0.0209 - accuracy: 0.0124 - val_loss: 0.0208 - val_accuracy: 0.0123\n",
            "Epoch 20/150\n",
            "1875/1875 [==============================] - 4s 2ms/step - loss: 0.0208 - accuracy: 0.0127 - val_loss: 0.0207 - val_accuracy: 0.0144\n",
            "Epoch 21/150\n",
            "1875/1875 [==============================] - 4s 2ms/step - loss: 0.0207 - accuracy: 0.0118 - val_loss: 0.0207 - val_accuracy: 0.0125\n",
            "Epoch 22/150\n",
            "1875/1875 [==============================] - 4s 2ms/step - loss: 0.0207 - accuracy: 0.0121 - val_loss: 0.0205 - val_accuracy: 0.0135\n",
            "Epoch 23/150\n",
            "1875/1875 [==============================] - 4s 2ms/step - loss: 0.0206 - accuracy: 0.0119 - val_loss: 0.0207 - val_accuracy: 0.0103\n",
            "Epoch 24/150\n",
            "1875/1875 [==============================] - 4s 2ms/step - loss: 0.0206 - accuracy: 0.0129 - val_loss: 0.0205 - val_accuracy: 0.0124\n",
            "Epoch 25/150\n",
            "1875/1875 [==============================] - 4s 2ms/step - loss: 0.0206 - accuracy: 0.0117 - val_loss: 0.0206 - val_accuracy: 0.0130\n",
            "Epoch 26/150\n",
            "1875/1875 [==============================] - 4s 2ms/step - loss: 0.0204 - accuracy: 0.0124 - val_loss: 0.0206 - val_accuracy: 0.0128\n",
            "Epoch 27/150\n",
            "1875/1875 [==============================] - 4s 2ms/step - loss: 0.0204 - accuracy: 0.0131 - val_loss: 0.0204 - val_accuracy: 0.0126\n",
            "Epoch 28/150\n",
            "1875/1875 [==============================] - 4s 2ms/step - loss: 0.0204 - accuracy: 0.0130 - val_loss: 0.0203 - val_accuracy: 0.0108\n",
            "Epoch 29/150\n",
            "1875/1875 [==============================] - 4s 2ms/step - loss: 0.0204 - accuracy: 0.0131 - val_loss: 0.0205 - val_accuracy: 0.0133\n",
            "Epoch 30/150\n",
            "1875/1875 [==============================] - 4s 2ms/step - loss: 0.0203 - accuracy: 0.0123 - val_loss: 0.0203 - val_accuracy: 0.0121\n",
            "Epoch 31/150\n",
            "1875/1875 [==============================] - 4s 2ms/step - loss: 0.0203 - accuracy: 0.0116 - val_loss: 0.0204 - val_accuracy: 0.0118\n",
            "Epoch 32/150\n",
            "1875/1875 [==============================] - 4s 2ms/step - loss: 0.0202 - accuracy: 0.0116 - val_loss: 0.0202 - val_accuracy: 0.0124\n",
            "Epoch 33/150\n",
            "1875/1875 [==============================] - 4s 2ms/step - loss: 0.0202 - accuracy: 0.0124 - val_loss: 0.0202 - val_accuracy: 0.0151\n",
            "Epoch 34/150\n",
            "1875/1875 [==============================] - 4s 2ms/step - loss: 0.0202 - accuracy: 0.0130 - val_loss: 0.0202 - val_accuracy: 0.0111\n",
            "Epoch 35/150\n",
            "1875/1875 [==============================] - 4s 2ms/step - loss: 0.0203 - accuracy: 0.0123 - val_loss: 0.0203 - val_accuracy: 0.0134\n",
            "Epoch 36/150\n",
            "1875/1875 [==============================] - 4s 2ms/step - loss: 0.0202 - accuracy: 0.0119 - val_loss: 0.0203 - val_accuracy: 0.0123\n",
            "Epoch 37/150\n",
            "1875/1875 [==============================] - 4s 2ms/step - loss: 0.0202 - accuracy: 0.0121 - val_loss: 0.0202 - val_accuracy: 0.0110\n",
            "Epoch 38/150\n",
            "1875/1875 [==============================] - 4s 2ms/step - loss: 0.0202 - accuracy: 0.0115 - val_loss: 0.0202 - val_accuracy: 0.0137\n",
            "Epoch 39/150\n",
            "1875/1875 [==============================] - 4s 2ms/step - loss: 0.0202 - accuracy: 0.0118 - val_loss: 0.0201 - val_accuracy: 0.0122\n",
            "Epoch 40/150\n",
            "1875/1875 [==============================] - 4s 2ms/step - loss: 0.0201 - accuracy: 0.0113 - val_loss: 0.0201 - val_accuracy: 0.0115\n",
            "Epoch 41/150\n",
            "1875/1875 [==============================] - 4s 2ms/step - loss: 0.0201 - accuracy: 0.0123 - val_loss: 0.0202 - val_accuracy: 0.0133\n",
            "Epoch 42/150\n",
            "1875/1875 [==============================] - 4s 2ms/step - loss: 0.0201 - accuracy: 0.0123 - val_loss: 0.0201 - val_accuracy: 0.0138\n",
            "Epoch 43/150\n",
            "1875/1875 [==============================] - 4s 2ms/step - loss: 0.0201 - accuracy: 0.0119 - val_loss: 0.0201 - val_accuracy: 0.0130\n",
            "Epoch 44/150\n",
            "1875/1875 [==============================] - 4s 2ms/step - loss: 0.0201 - accuracy: 0.0126 - val_loss: 0.0200 - val_accuracy: 0.0139\n",
            "Epoch 45/150\n",
            "1875/1875 [==============================] - 4s 2ms/step - loss: 0.0200 - accuracy: 0.0125 - val_loss: 0.0201 - val_accuracy: 0.0127\n",
            "Epoch 46/150\n",
            "1875/1875 [==============================] - 4s 2ms/step - loss: 0.0200 - accuracy: 0.0129 - val_loss: 0.0201 - val_accuracy: 0.0113\n",
            "Epoch 47/150\n",
            "1875/1875 [==============================] - 4s 2ms/step - loss: 0.0201 - accuracy: 0.0130 - val_loss: 0.0201 - val_accuracy: 0.0099\n",
            "Epoch 48/150\n",
            "1875/1875 [==============================] - 4s 2ms/step - loss: 0.0199 - accuracy: 0.0131 - val_loss: 0.0200 - val_accuracy: 0.0124\n",
            "Epoch 49/150\n",
            "1875/1875 [==============================] - 4s 2ms/step - loss: 0.0200 - accuracy: 0.0118 - val_loss: 0.0200 - val_accuracy: 0.0139\n",
            "Epoch 50/150\n",
            "1875/1875 [==============================] - 4s 2ms/step - loss: 0.0200 - accuracy: 0.0119 - val_loss: 0.0200 - val_accuracy: 0.0143\n",
            "Epoch 51/150\n",
            "1875/1875 [==============================] - 4s 2ms/step - loss: 0.0199 - accuracy: 0.0120 - val_loss: 0.0199 - val_accuracy: 0.0116\n",
            "Epoch 52/150\n",
            "1875/1875 [==============================] - 4s 2ms/step - loss: 0.0199 - accuracy: 0.0118 - val_loss: 0.0199 - val_accuracy: 0.0131\n",
            "Epoch 53/150\n",
            "1875/1875 [==============================] - 4s 2ms/step - loss: 0.0199 - accuracy: 0.0127 - val_loss: 0.0201 - val_accuracy: 0.0126\n",
            "Epoch 54/150\n",
            "1875/1875 [==============================] - 4s 2ms/step - loss: 0.0199 - accuracy: 0.0124 - val_loss: 0.0200 - val_accuracy: 0.0112\n",
            "Epoch 55/150\n",
            "1875/1875 [==============================] - 4s 2ms/step - loss: 0.0199 - accuracy: 0.0129 - val_loss: 0.0200 - val_accuracy: 0.0103\n",
            "Epoch 56/150\n",
            "1875/1875 [==============================] - 4s 2ms/step - loss: 0.0198 - accuracy: 0.0120 - val_loss: 0.0200 - val_accuracy: 0.0135\n",
            "Epoch 57/150\n",
            "1875/1875 [==============================] - 4s 2ms/step - loss: 0.0198 - accuracy: 0.0120 - val_loss: 0.0201 - val_accuracy: 0.0134\n",
            "Epoch 58/150\n",
            "1875/1875 [==============================] - 4s 2ms/step - loss: 0.0199 - accuracy: 0.0124 - val_loss: 0.0200 - val_accuracy: 0.0123\n",
            "Epoch 59/150\n",
            "1875/1875 [==============================] - 4s 2ms/step - loss: 0.0198 - accuracy: 0.0118 - val_loss: 0.0200 - val_accuracy: 0.0102\n",
            "Epoch 60/150\n",
            "1875/1875 [==============================] - 4s 2ms/step - loss: 0.0199 - accuracy: 0.0115 - val_loss: 0.0200 - val_accuracy: 0.0115\n",
            "Epoch 61/150\n",
            "1875/1875 [==============================] - 4s 2ms/step - loss: 0.0198 - accuracy: 0.0118 - val_loss: 0.0200 - val_accuracy: 0.0112\n",
            "Epoch 62/150\n",
            "1875/1875 [==============================] - 4s 2ms/step - loss: 0.0198 - accuracy: 0.0133 - val_loss: 0.0200 - val_accuracy: 0.0130\n",
            "Epoch 63/150\n",
            "1875/1875 [==============================] - 4s 2ms/step - loss: 0.0197 - accuracy: 0.0120 - val_loss: 0.0199 - val_accuracy: 0.0113\n",
            "Epoch 64/150\n",
            "1875/1875 [==============================] - 4s 2ms/step - loss: 0.0198 - accuracy: 0.0128 - val_loss: 0.0200 - val_accuracy: 0.0126\n",
            "Epoch 65/150\n",
            "1875/1875 [==============================] - 4s 2ms/step - loss: 0.0198 - accuracy: 0.0125 - val_loss: 0.0200 - val_accuracy: 0.0102\n",
            "Epoch 66/150\n",
            "1875/1875 [==============================] - 4s 2ms/step - loss: 0.0198 - accuracy: 0.0116 - val_loss: 0.0199 - val_accuracy: 0.0097\n",
            "Epoch 67/150\n",
            "1875/1875 [==============================] - 5s 2ms/step - loss: 0.0198 - accuracy: 0.0124 - val_loss: 0.0199 - val_accuracy: 0.0132\n",
            "Epoch 68/150\n",
            "1875/1875 [==============================] - 4s 2ms/step - loss: 0.0197 - accuracy: 0.0120 - val_loss: 0.0200 - val_accuracy: 0.0125\n",
            "Epoch 69/150\n",
            "1875/1875 [==============================] - 4s 2ms/step - loss: 0.0197 - accuracy: 0.0119 - val_loss: 0.0199 - val_accuracy: 0.0130\n",
            "Epoch 70/150\n",
            "1875/1875 [==============================] - 4s 2ms/step - loss: 0.0198 - accuracy: 0.0118 - val_loss: 0.0199 - val_accuracy: 0.0118\n",
            "Epoch 71/150\n",
            "1875/1875 [==============================] - 4s 2ms/step - loss: 0.0198 - accuracy: 0.0121 - val_loss: 0.0199 - val_accuracy: 0.0110\n",
            "Epoch 72/150\n",
            "1875/1875 [==============================] - 4s 2ms/step - loss: 0.0197 - accuracy: 0.0126 - val_loss: 0.0199 - val_accuracy: 0.0128\n",
            "Epoch 73/150\n",
            "1875/1875 [==============================] - 4s 2ms/step - loss: 0.0197 - accuracy: 0.0123 - val_loss: 0.0200 - val_accuracy: 0.0109\n",
            "Epoch 74/150\n",
            "1875/1875 [==============================] - 4s 2ms/step - loss: 0.0197 - accuracy: 0.0119 - val_loss: 0.0199 - val_accuracy: 0.0105\n",
            "Epoch 75/150\n",
            "1875/1875 [==============================] - 4s 2ms/step - loss: 0.0196 - accuracy: 0.0126 - val_loss: 0.0201 - val_accuracy: 0.0107\n",
            "Epoch 76/150\n",
            "1875/1875 [==============================] - 4s 2ms/step - loss: 0.0197 - accuracy: 0.0126 - val_loss: 0.0198 - val_accuracy: 0.0108\n",
            "Epoch 77/150\n",
            "1875/1875 [==============================] - 4s 2ms/step - loss: 0.0198 - accuracy: 0.0128 - val_loss: 0.0199 - val_accuracy: 0.0107\n",
            "Epoch 78/150\n",
            "1875/1875 [==============================] - 4s 2ms/step - loss: 0.0197 - accuracy: 0.0121 - val_loss: 0.0199 - val_accuracy: 0.0114\n",
            "Epoch 79/150\n",
            "1875/1875 [==============================] - 4s 2ms/step - loss: 0.0197 - accuracy: 0.0120 - val_loss: 0.0199 - val_accuracy: 0.0113\n",
            "Epoch 80/150\n",
            "1875/1875 [==============================] - 4s 2ms/step - loss: 0.0196 - accuracy: 0.0118 - val_loss: 0.0200 - val_accuracy: 0.0135\n",
            "Epoch 81/150\n",
            "1875/1875 [==============================] - 4s 2ms/step - loss: 0.0196 - accuracy: 0.0131 - val_loss: 0.0198 - val_accuracy: 0.0133\n",
            "Epoch 82/150\n",
            "1875/1875 [==============================] - 4s 2ms/step - loss: 0.0196 - accuracy: 0.0120 - val_loss: 0.0199 - val_accuracy: 0.0105\n",
            "Epoch 83/150\n",
            "1875/1875 [==============================] - 4s 2ms/step - loss: 0.0196 - accuracy: 0.0123 - val_loss: 0.0198 - val_accuracy: 0.0110\n",
            "Epoch 84/150\n",
            "1875/1875 [==============================] - 4s 2ms/step - loss: 0.0196 - accuracy: 0.0128 - val_loss: 0.0200 - val_accuracy: 0.0123\n",
            "Epoch 85/150\n",
            "1875/1875 [==============================] - 4s 2ms/step - loss: 0.0196 - accuracy: 0.0111 - val_loss: 0.0197 - val_accuracy: 0.0109\n",
            "Epoch 86/150\n",
            "1875/1875 [==============================] - 4s 2ms/step - loss: 0.0196 - accuracy: 0.0121 - val_loss: 0.0199 - val_accuracy: 0.0137\n",
            "Epoch 87/150\n",
            "1875/1875 [==============================] - 4s 2ms/step - loss: 0.0196 - accuracy: 0.0132 - val_loss: 0.0197 - val_accuracy: 0.0109\n",
            "Epoch 88/150\n",
            "1875/1875 [==============================] - 4s 2ms/step - loss: 0.0196 - accuracy: 0.0118 - val_loss: 0.0198 - val_accuracy: 0.0107\n",
            "Epoch 89/150\n",
            "1875/1875 [==============================] - 4s 2ms/step - loss: 0.0196 - accuracy: 0.0120 - val_loss: 0.0198 - val_accuracy: 0.0123\n",
            "Epoch 90/150\n",
            "1875/1875 [==============================] - 4s 2ms/step - loss: 0.0195 - accuracy: 0.0123 - val_loss: 0.0198 - val_accuracy: 0.0130\n",
            "Epoch 91/150\n",
            "1875/1875 [==============================] - 4s 2ms/step - loss: 0.0196 - accuracy: 0.0117 - val_loss: 0.0198 - val_accuracy: 0.0120\n",
            "Epoch 92/150\n",
            "1875/1875 [==============================] - 4s 2ms/step - loss: 0.0196 - accuracy: 0.0124 - val_loss: 0.0199 - val_accuracy: 0.0131\n",
            "Epoch 93/150\n",
            "1875/1875 [==============================] - 4s 2ms/step - loss: 0.0195 - accuracy: 0.0125 - val_loss: 0.0199 - val_accuracy: 0.0121\n",
            "Epoch 94/150\n",
            "1875/1875 [==============================] - 4s 2ms/step - loss: 0.0195 - accuracy: 0.0119 - val_loss: 0.0197 - val_accuracy: 0.0116\n",
            "Epoch 95/150\n",
            "1875/1875 [==============================] - 4s 2ms/step - loss: 0.0195 - accuracy: 0.0123 - val_loss: 0.0198 - val_accuracy: 0.0131\n",
            "Epoch 96/150\n",
            "1875/1875 [==============================] - 4s 2ms/step - loss: 0.0196 - accuracy: 0.0125 - val_loss: 0.0198 - val_accuracy: 0.0103\n",
            "Epoch 97/150\n",
            "1875/1875 [==============================] - 4s 2ms/step - loss: 0.0196 - accuracy: 0.0123 - val_loss: 0.0200 - val_accuracy: 0.0102\n",
            "Epoch 98/150\n",
            "1875/1875 [==============================] - 4s 2ms/step - loss: 0.0195 - accuracy: 0.0117 - val_loss: 0.0196 - val_accuracy: 0.0121\n",
            "Epoch 99/150\n",
            "1875/1875 [==============================] - 4s 2ms/step - loss: 0.0196 - accuracy: 0.0117 - val_loss: 0.0197 - val_accuracy: 0.0114\n",
            "Epoch 100/150\n",
            "1875/1875 [==============================] - 4s 2ms/step - loss: 0.0195 - accuracy: 0.0122 - val_loss: 0.0197 - val_accuracy: 0.0123\n",
            "Epoch 101/150\n",
            "1875/1875 [==============================] - 4s 2ms/step - loss: 0.0196 - accuracy: 0.0129 - val_loss: 0.0198 - val_accuracy: 0.0124\n",
            "Epoch 102/150\n",
            "1875/1875 [==============================] - 4s 2ms/step - loss: 0.0196 - accuracy: 0.0121 - val_loss: 0.0198 - val_accuracy: 0.0120\n",
            "Epoch 103/150\n",
            "1875/1875 [==============================] - 4s 2ms/step - loss: 0.0195 - accuracy: 0.0121 - val_loss: 0.0199 - val_accuracy: 0.0116\n",
            "Epoch 104/150\n",
            "1875/1875 [==============================] - 4s 2ms/step - loss: 0.0195 - accuracy: 0.0127 - val_loss: 0.0197 - val_accuracy: 0.0123\n",
            "Epoch 105/150\n",
            "1875/1875 [==============================] - 4s 2ms/step - loss: 0.0195 - accuracy: 0.0118 - val_loss: 0.0199 - val_accuracy: 0.0142\n",
            "Epoch 106/150\n",
            "1875/1875 [==============================] - 4s 2ms/step - loss: 0.0195 - accuracy: 0.0133 - val_loss: 0.0197 - val_accuracy: 0.0115\n",
            "Epoch 107/150\n",
            "1875/1875 [==============================] - 4s 2ms/step - loss: 0.0196 - accuracy: 0.0116 - val_loss: 0.0197 - val_accuracy: 0.0128\n",
            "Epoch 108/150\n",
            "1875/1875 [==============================] - 4s 2ms/step - loss: 0.0194 - accuracy: 0.0129 - val_loss: 0.0198 - val_accuracy: 0.0133\n",
            "Epoch 109/150\n",
            "1875/1875 [==============================] - 4s 2ms/step - loss: 0.0195 - accuracy: 0.0125 - val_loss: 0.0199 - val_accuracy: 0.0126\n",
            "Epoch 110/150\n",
            "1875/1875 [==============================] - 4s 2ms/step - loss: 0.0196 - accuracy: 0.0121 - val_loss: 0.0197 - val_accuracy: 0.0131\n",
            "Epoch 111/150\n",
            "1875/1875 [==============================] - 4s 2ms/step - loss: 0.0196 - accuracy: 0.0125 - val_loss: 0.0197 - val_accuracy: 0.0122\n",
            "Epoch 112/150\n",
            "1875/1875 [==============================] - 4s 2ms/step - loss: 0.0195 - accuracy: 0.0122 - val_loss: 0.0198 - val_accuracy: 0.0135\n",
            "Epoch 113/150\n",
            "1875/1875 [==============================] - 4s 2ms/step - loss: 0.0194 - accuracy: 0.0123 - val_loss: 0.0198 - val_accuracy: 0.0124\n",
            "Epoch 114/150\n",
            "1875/1875 [==============================] - 4s 2ms/step - loss: 0.0195 - accuracy: 0.0128 - val_loss: 0.0197 - val_accuracy: 0.0157\n",
            "Epoch 115/150\n",
            "1875/1875 [==============================] - 4s 2ms/step - loss: 0.0195 - accuracy: 0.0112 - val_loss: 0.0197 - val_accuracy: 0.0130\n",
            "Epoch 116/150\n",
            "1875/1875 [==============================] - 4s 2ms/step - loss: 0.0195 - accuracy: 0.0121 - val_loss: 0.0197 - val_accuracy: 0.0097\n",
            "Epoch 117/150\n",
            "1875/1875 [==============================] - 4s 2ms/step - loss: 0.0194 - accuracy: 0.0127 - val_loss: 0.0197 - val_accuracy: 0.0116\n",
            "Epoch 118/150\n",
            "1875/1875 [==============================] - 4s 2ms/step - loss: 0.0194 - accuracy: 0.0117 - val_loss: 0.0196 - val_accuracy: 0.0119\n",
            "Epoch 119/150\n",
            "1875/1875 [==============================] - 4s 2ms/step - loss: 0.0195 - accuracy: 0.0128 - val_loss: 0.0197 - val_accuracy: 0.0117\n",
            "Epoch 120/150\n",
            "1875/1875 [==============================] - 4s 2ms/step - loss: 0.0194 - accuracy: 0.0123 - val_loss: 0.0196 - val_accuracy: 0.0145\n",
            "Epoch 121/150\n",
            "1875/1875 [==============================] - 4s 2ms/step - loss: 0.0194 - accuracy: 0.0125 - val_loss: 0.0198 - val_accuracy: 0.0113\n",
            "Epoch 122/150\n",
            "1875/1875 [==============================] - 4s 2ms/step - loss: 0.0194 - accuracy: 0.0127 - val_loss: 0.0197 - val_accuracy: 0.0120\n",
            "Epoch 123/150\n",
            "1875/1875 [==============================] - 4s 2ms/step - loss: 0.0194 - accuracy: 0.0118 - val_loss: 0.0197 - val_accuracy: 0.0128\n",
            "Epoch 124/150\n",
            "1875/1875 [==============================] - 4s 2ms/step - loss: 0.0195 - accuracy: 0.0123 - val_loss: 0.0198 - val_accuracy: 0.0105\n",
            "Epoch 125/150\n",
            "1875/1875 [==============================] - 4s 2ms/step - loss: 0.0194 - accuracy: 0.0119 - val_loss: 0.0197 - val_accuracy: 0.0129\n",
            "Epoch 126/150\n",
            "1875/1875 [==============================] - 4s 2ms/step - loss: 0.0195 - accuracy: 0.0115 - val_loss: 0.0196 - val_accuracy: 0.0113\n",
            "Epoch 127/150\n",
            "1875/1875 [==============================] - 4s 2ms/step - loss: 0.0194 - accuracy: 0.0124 - val_loss: 0.0198 - val_accuracy: 0.0118\n",
            "Epoch 128/150\n",
            "1875/1875 [==============================] - 4s 2ms/step - loss: 0.0194 - accuracy: 0.0126 - val_loss: 0.0196 - val_accuracy: 0.0124\n",
            "Epoch 129/150\n",
            "1875/1875 [==============================] - 4s 2ms/step - loss: 0.0194 - accuracy: 0.0132 - val_loss: 0.0196 - val_accuracy: 0.0119\n",
            "Epoch 130/150\n",
            "1875/1875 [==============================] - 4s 2ms/step - loss: 0.0194 - accuracy: 0.0119 - val_loss: 0.0197 - val_accuracy: 0.0117\n",
            "Epoch 131/150\n",
            "1875/1875 [==============================] - 4s 2ms/step - loss: 0.0194 - accuracy: 0.0132 - val_loss: 0.0197 - val_accuracy: 0.0137\n",
            "Epoch 132/150\n",
            "1875/1875 [==============================] - 4s 2ms/step - loss: 0.0194 - accuracy: 0.0135 - val_loss: 0.0197 - val_accuracy: 0.0130\n",
            "Epoch 133/150\n",
            "1875/1875 [==============================] - 4s 2ms/step - loss: 0.0193 - accuracy: 0.0118 - val_loss: 0.0196 - val_accuracy: 0.0127\n",
            "Epoch 134/150\n",
            "1875/1875 [==============================] - 4s 2ms/step - loss: 0.0194 - accuracy: 0.0112 - val_loss: 0.0198 - val_accuracy: 0.0121\n",
            "Epoch 135/150\n",
            "1875/1875 [==============================] - 4s 2ms/step - loss: 0.0194 - accuracy: 0.0127 - val_loss: 0.0197 - val_accuracy: 0.0131\n",
            "Epoch 136/150\n",
            "1875/1875 [==============================] - 4s 2ms/step - loss: 0.0194 - accuracy: 0.0126 - val_loss: 0.0197 - val_accuracy: 0.0121\n",
            "Epoch 137/150\n",
            "1875/1875 [==============================] - 5s 2ms/step - loss: 0.0194 - accuracy: 0.0123 - val_loss: 0.0198 - val_accuracy: 0.0112\n",
            "Epoch 138/150\n",
            "1875/1875 [==============================] - 4s 2ms/step - loss: 0.0194 - accuracy: 0.0118 - val_loss: 0.0196 - val_accuracy: 0.0132\n",
            "Epoch 139/150\n",
            "1875/1875 [==============================] - 4s 2ms/step - loss: 0.0194 - accuracy: 0.0135 - val_loss: 0.0196 - val_accuracy: 0.0106\n",
            "Epoch 140/150\n",
            "1875/1875 [==============================] - 4s 2ms/step - loss: 0.0193 - accuracy: 0.0125 - val_loss: 0.0198 - val_accuracy: 0.0136\n",
            "Epoch 141/150\n",
            "1875/1875 [==============================] - 4s 2ms/step - loss: 0.0193 - accuracy: 0.0115 - val_loss: 0.0196 - val_accuracy: 0.0148\n",
            "Epoch 142/150\n",
            "1875/1875 [==============================] - 4s 2ms/step - loss: 0.0194 - accuracy: 0.0123 - val_loss: 0.0197 - val_accuracy: 0.0106\n",
            "Epoch 143/150\n",
            "1875/1875 [==============================] - 4s 2ms/step - loss: 0.0194 - accuracy: 0.0115 - val_loss: 0.0198 - val_accuracy: 0.0132\n",
            "Epoch 144/150\n",
            "1875/1875 [==============================] - 4s 2ms/step - loss: 0.0194 - accuracy: 0.0128 - val_loss: 0.0197 - val_accuracy: 0.0127\n",
            "Epoch 145/150\n",
            "1875/1875 [==============================] - 4s 2ms/step - loss: 0.0193 - accuracy: 0.0119 - val_loss: 0.0196 - val_accuracy: 0.0135\n",
            "Epoch 146/150\n",
            "1875/1875 [==============================] - 4s 2ms/step - loss: 0.0193 - accuracy: 0.0115 - val_loss: 0.0197 - val_accuracy: 0.0118\n",
            "Epoch 147/150\n",
            "1875/1875 [==============================] - 4s 2ms/step - loss: 0.0194 - accuracy: 0.0116 - val_loss: 0.0196 - val_accuracy: 0.0140\n",
            "Epoch 148/150\n",
            "1875/1875 [==============================] - 4s 2ms/step - loss: 0.0194 - accuracy: 0.0126 - val_loss: 0.0198 - val_accuracy: 0.0147\n",
            "Epoch 149/150\n",
            "1875/1875 [==============================] - 4s 2ms/step - loss: 0.0194 - accuracy: 0.0125 - val_loss: 0.0196 - val_accuracy: 0.0109\n",
            "Epoch 150/150\n",
            "1875/1875 [==============================] - 4s 2ms/step - loss: 0.0194 - accuracy: 0.0125 - val_loss: 0.0197 - val_accuracy: 0.0136\n"
          ],
          "name": "stdout"
        }
      ]
    },
    {
      "cell_type": "code",
      "metadata": {
        "id": "KEAV2ZNVSKTD"
      },
      "source": [
        "sample1 = X_train[0].reshape(28,28)"
      ],
      "execution_count": null,
      "outputs": []
    },
    {
      "cell_type": "code",
      "metadata": {
        "colab": {
          "base_uri": "https://localhost:8080/",
          "height": 282
        },
        "id": "eGEMSzQXSdgS",
        "outputId": "f8c9c7ae-bcbd-4d6f-bcd2-a6dbbfd7ec64"
      },
      "source": [
        "from matplotlib import pyplot as plt\n",
        "plt.imshow(sample1)"
      ],
      "execution_count": null,
      "outputs": [
        {
          "output_type": "execute_result",
          "data": {
            "text/plain": [
              "<matplotlib.image.AxesImage at 0x7f6dd0296190>"
            ]
          },
          "metadata": {
            "tags": []
          },
          "execution_count": 11
        },
        {
          "output_type": "display_data",
          "data": {
            "image/png": "[encoded data removed]",
            "text/plain": [
              "<Figure size 432x288 with 1 Axes>"
            ]
          },
          "metadata": {
            "tags": [],
            "needs_background": "light"
          }
        }
      ]
    },
    {
      "cell_type": "code",
      "metadata": {
        "id": "iTvgbd8TSjVJ"
      },
      "source": [
        "decoderop_sample1 = model.predict(X_train[0].reshape(1,-1)).reshape(28,28)"
      ],
      "execution_count": null,
      "outputs": []
    },
    {
      "cell_type": "code",
      "metadata": {
        "colab": {
          "base_uri": "https://localhost:8080/",
          "height": 282
        },
        "id": "Z36Twf2IS23S",
        "outputId": "808d2d19-0a02-4c31-c0a6-7767784c4329"
      },
      "source": [
        "from matplotlib import pyplot as plt\n",
        "plt.imshow(decoderop_sample1)"
      ],
      "execution_count": null,
      "outputs": [
        {
          "output_type": "execute_result",
          "data": {
            "text/plain": [
              "<matplotlib.image.AxesImage at 0x7f6dd02ff2d0>"
            ]
          },
          "metadata": {
            "tags": []
          },
          "execution_count": 13
        },
        {
          "output_type": "display_data",
          "data": {
            "image/png": "[encoded data removed]",
            "text/plain": [
              "<Figure size 432x288 with 1 Axes>"
            ]
          },
          "metadata": {
            "tags": [],
            "needs_background": "light"
          }
        }
      ]
    },
    {
      "cell_type": "code",
      "metadata": {
        "colab": {
          "base_uri": "https://localhost:8080/"
        },
        "id": "F_orBM95T3N_",
        "outputId": "3792c67a-bdfe-4e76-9f2d-bbc387d1bcf6"
      },
      "source": [
        "#autoencoder 1\n",
        "input_img = Input(shape=(784,))\n",
        "en1 = Dense(200,activation='relu')(input_img)\n",
        "code1 = Dense(100,activation='relu')(en1)\n",
        "de1 = Dense(200,activation='relu')(code1)\n",
        "output1 = Dense(784,activation='relu')(de1)\n",
        "\n",
        "model1 = Model(inputs=input_img,outputs=output1)\n",
        "model1.compile(optimizer='adam',loss='mse')\n",
        "history1 = model1.fit(X_train,X_train,epochs=150,batch_size=32,validation_data=(X_test,X_test))"
      ],
      "execution_count": null,
      "outputs": [
        {
          "output_type": "stream",
          "text": [
            "Epoch 1/150\n",
            "1875/1875 [==============================] - 4s 2ms/step - loss: 0.0237 - val_loss: 0.0101\n",
            "Epoch 2/150\n",
            "1875/1875 [==============================] - 4s 2ms/step - loss: 0.0100 - val_loss: 0.0089\n",
            "Epoch 3/150\n",
            "1875/1875 [==============================] - 3s 2ms/step - loss: 0.0090 - val_loss: 0.0085\n",
            "Epoch 4/150\n",
            "1875/1875 [==============================] - 3s 2ms/step - loss: 0.0087 - val_loss: 0.0083\n",
            "Epoch 5/150\n",
            "1875/1875 [==============================] - 4s 2ms/step - loss: 0.0085 - val_loss: 0.0082\n",
            "Epoch 6/150\n",
            "1875/1875 [==============================] - 3s 2ms/step - loss: 0.0083 - val_loss: 0.0082\n",
            "Epoch 7/150\n",
            "1875/1875 [==============================] - 4s 2ms/step - loss: 0.0083 - val_loss: 0.0080\n",
            "Epoch 8/150\n",
            "1875/1875 [==============================] - 4s 2ms/step - loss: 0.0082 - val_loss: 0.0080\n",
            "Epoch 9/150\n",
            "1875/1875 [==============================] - 4s 2ms/step - loss: 0.0082 - val_loss: 0.0079\n",
            "Epoch 10/150\n",
            "1875/1875 [==============================] - 3s 2ms/step - loss: 0.0081 - val_loss: 0.0079\n",
            "Epoch 11/150\n",
            "1875/1875 [==============================] - 4s 2ms/step - loss: 0.0081 - val_loss: 0.0078\n",
            "Epoch 12/150\n",
            "1875/1875 [==============================] - 4s 2ms/step - loss: 0.0080 - val_loss: 0.0078\n",
            "Epoch 13/150\n",
            "1875/1875 [==============================] - 4s 2ms/step - loss: 0.0079 - val_loss: 0.0080\n",
            "Epoch 14/150\n",
            "1875/1875 [==============================] - 4s 2ms/step - loss: 0.0079 - val_loss: 0.0077\n",
            "Epoch 15/150\n",
            "1875/1875 [==============================] - 3s 2ms/step - loss: 0.0079 - val_loss: 0.0077\n",
            "Epoch 16/150\n",
            "1875/1875 [==============================] - 3s 2ms/step - loss: 0.0078 - val_loss: 0.0079\n",
            "Epoch 17/150\n",
            "1875/1875 [==============================] - 4s 2ms/step - loss: 0.0078 - val_loss: 0.0076\n",
            "Epoch 18/150\n",
            "1875/1875 [==============================] - 4s 2ms/step - loss: 0.0078 - val_loss: 0.0076\n",
            "Epoch 19/150\n",
            "1875/1875 [==============================] - 4s 2ms/step - loss: 0.0078 - val_loss: 0.0075\n",
            "Epoch 20/150\n",
            "1875/1875 [==============================] - 4s 2ms/step - loss: 0.0078 - val_loss: 0.0076\n",
            "Epoch 21/150\n",
            "1875/1875 [==============================] - 4s 2ms/step - loss: 0.0077 - val_loss: 0.0077\n",
            "Epoch 22/150\n",
            "1875/1875 [==============================] - 4s 2ms/step - loss: 0.0078 - val_loss: 0.0074\n",
            "Epoch 23/150\n",
            "1875/1875 [==============================] - 4s 2ms/step - loss: 0.0076 - val_loss: 0.0074\n",
            "Epoch 24/150\n",
            "1875/1875 [==============================] - 3s 2ms/step - loss: 0.0076 - val_loss: 0.0075\n",
            "Epoch 25/150\n",
            "1875/1875 [==============================] - 4s 2ms/step - loss: 0.0076 - val_loss: 0.0074\n",
            "Epoch 26/150\n",
            "1875/1875 [==============================] - 4s 2ms/step - loss: 0.0075 - val_loss: 0.0073\n",
            "Epoch 27/150\n",
            "1875/1875 [==============================] - 4s 2ms/step - loss: 0.0075 - val_loss: 0.0073\n",
            "Epoch 28/150\n",
            "1875/1875 [==============================] - 4s 2ms/step - loss: 0.0075 - val_loss: 0.0073\n",
            "Epoch 29/150\n",
            "1875/1875 [==============================] - 4s 2ms/step - loss: 0.0075 - val_loss: 0.0073\n",
            "Epoch 30/150\n",
            "1875/1875 [==============================] - 4s 2ms/step - loss: 0.0074 - val_loss: 0.0071\n",
            "Epoch 31/150\n",
            "1875/1875 [==============================] - 4s 2ms/step - loss: 0.0075 - val_loss: 0.0072\n",
            "Epoch 32/150\n",
            "1875/1875 [==============================] - 3s 2ms/step - loss: 0.0074 - val_loss: 0.0072\n",
            "Epoch 33/150\n",
            "1875/1875 [==============================] - 4s 2ms/step - loss: 0.0072 - val_loss: 0.0071\n",
            "Epoch 34/150\n",
            "1875/1875 [==============================] - 4s 2ms/step - loss: 0.0072 - val_loss: 0.0070\n",
            "Epoch 35/150\n",
            "1875/1875 [==============================] - 4s 2ms/step - loss: 0.0072 - val_loss: 0.0070\n",
            "Epoch 36/150\n",
            "1875/1875 [==============================] - 4s 2ms/step - loss: 0.0072 - val_loss: 0.0071\n",
            "Epoch 37/150\n",
            "1875/1875 [==============================] - 4s 2ms/step - loss: 0.0072 - val_loss: 0.0070\n",
            "Epoch 38/150\n",
            "1875/1875 [==============================] - 4s 2ms/step - loss: 0.0072 - val_loss: 0.0071\n",
            "Epoch 39/150\n",
            "1875/1875 [==============================] - 4s 2ms/step - loss: 0.0071 - val_loss: 0.0070\n",
            "Epoch 40/150\n",
            "1875/1875 [==============================] - 4s 2ms/step - loss: 0.0071 - val_loss: 0.0069\n",
            "Epoch 41/150\n",
            "1875/1875 [==============================] - 3s 2ms/step - loss: 0.0071 - val_loss: 0.0071\n",
            "Epoch 42/150\n",
            "1875/1875 [==============================] - 3s 2ms/step - loss: 0.0071 - val_loss: 0.0069\n",
            "Epoch 43/150\n",
            "1875/1875 [==============================] - 4s 2ms/step - loss: 0.0071 - val_loss: 0.0070\n",
            "Epoch 44/150\n",
            "1875/1875 [==============================] - 3s 2ms/step - loss: 0.0071 - val_loss: 0.0070\n",
            "Epoch 45/150\n",
            "1875/1875 [==============================] - 3s 2ms/step - loss: 0.0071 - val_loss: 0.0070\n",
            "Epoch 46/150\n",
            "1875/1875 [==============================] - 4s 2ms/step - loss: 0.0070 - val_loss: 0.0069\n",
            "Epoch 47/150\n",
            "1875/1875 [==============================] - 4s 2ms/step - loss: 0.0070 - val_loss: 0.0069\n",
            "Epoch 48/150\n",
            "1875/1875 [==============================] - 3s 2ms/step - loss: 0.0070 - val_loss: 0.0068\n",
            "Epoch 49/150\n",
            "1875/1875 [==============================] - 4s 2ms/step - loss: 0.0070 - val_loss: 0.0068\n",
            "Epoch 50/150\n",
            "1875/1875 [==============================] - 3s 2ms/step - loss: 0.0070 - val_loss: 0.0068\n",
            "Epoch 51/150\n",
            "1875/1875 [==============================] - 3s 2ms/step - loss: 0.0069 - val_loss: 0.0068\n",
            "Epoch 52/150\n",
            "1875/1875 [==============================] - 3s 2ms/step - loss: 0.0069 - val_loss: 0.0068\n",
            "Epoch 53/150\n",
            "1875/1875 [==============================] - 3s 2ms/step - loss: 0.0069 - val_loss: 0.0069\n",
            "Epoch 54/150\n",
            "1875/1875 [==============================] - 4s 2ms/step - loss: 0.0069 - val_loss: 0.0068\n",
            "Epoch 55/150\n",
            "1875/1875 [==============================] - 4s 2ms/step - loss: 0.0069 - val_loss: 0.0069\n",
            "Epoch 56/150\n",
            "1875/1875 [==============================] - 3s 2ms/step - loss: 0.0070 - val_loss: 0.0067\n",
            "Epoch 57/150\n",
            "1875/1875 [==============================] - 4s 2ms/step - loss: 0.0069 - val_loss: 0.0067\n",
            "Epoch 58/150\n",
            "1875/1875 [==============================] - 4s 2ms/step - loss: 0.0069 - val_loss: 0.0068\n",
            "Epoch 59/150\n",
            "1875/1875 [==============================] - 3s 2ms/step - loss: 0.0069 - val_loss: 0.0068\n",
            "Epoch 60/150\n",
            "1875/1875 [==============================] - 3s 2ms/step - loss: 0.0069 - val_loss: 0.0067\n",
            "Epoch 61/150\n",
            "1875/1875 [==============================] - 3s 2ms/step - loss: 0.0069 - val_loss: 0.0067\n",
            "Epoch 62/150\n",
            "1875/1875 [==============================] - 4s 2ms/step - loss: 0.0068 - val_loss: 0.0069\n",
            "Epoch 63/150\n",
            "1875/1875 [==============================] - 4s 2ms/step - loss: 0.0069 - val_loss: 0.0067\n",
            "Epoch 64/150\n",
            "1875/1875 [==============================] - 3s 2ms/step - loss: 0.0068 - val_loss: 0.0068\n",
            "Epoch 65/150\n",
            "1875/1875 [==============================] - 3s 2ms/step - loss: 0.0068 - val_loss: 0.0067\n",
            "Epoch 66/150\n",
            "1875/1875 [==============================] - 3s 2ms/step - loss: 0.0069 - val_loss: 0.0067\n",
            "Epoch 67/150\n",
            "1875/1875 [==============================] - 4s 2ms/step - loss: 0.0068 - val_loss: 0.0067\n",
            "Epoch 68/150\n",
            "1875/1875 [==============================] - 4s 2ms/step - loss: 0.0068 - val_loss: 0.0068\n",
            "Epoch 69/150\n",
            "1875/1875 [==============================] - 3s 2ms/step - loss: 0.0068 - val_loss: 0.0067\n",
            "Epoch 70/150\n",
            "1875/1875 [==============================] - 4s 2ms/step - loss: 0.0068 - val_loss: 0.0067\n",
            "Epoch 71/150\n",
            "1875/1875 [==============================] - 4s 2ms/step - loss: 0.0068 - val_loss: 0.0066\n",
            "Epoch 72/150\n",
            "1875/1875 [==============================] - 4s 2ms/step - loss: 0.0068 - val_loss: 0.0066\n",
            "Epoch 73/150\n",
            "1875/1875 [==============================] - 4s 2ms/step - loss: 0.0068 - val_loss: 0.0067\n",
            "Epoch 74/150\n",
            "1875/1875 [==============================] - 3s 2ms/step - loss: 0.0068 - val_loss: 0.0066\n",
            "Epoch 75/150\n",
            "1875/1875 [==============================] - 4s 2ms/step - loss: 0.0068 - val_loss: 0.0067\n",
            "Epoch 76/150\n",
            "1875/1875 [==============================] - 4s 2ms/step - loss: 0.0068 - val_loss: 0.0066\n",
            "Epoch 77/150\n",
            "1875/1875 [==============================] - 4s 2ms/step - loss: 0.0068 - val_loss: 0.0066\n",
            "Epoch 78/150\n",
            "1875/1875 [==============================] - 3s 2ms/step - loss: 0.0067 - val_loss: 0.0066\n",
            "Epoch 79/150\n",
            "1875/1875 [==============================] - 4s 2ms/step - loss: 0.0067 - val_loss: 0.0067\n",
            "Epoch 80/150\n",
            "1875/1875 [==============================] - 3s 2ms/step - loss: 0.0068 - val_loss: 0.0065\n",
            "Epoch 81/150\n",
            "1875/1875 [==============================] - 4s 2ms/step - loss: 0.0067 - val_loss: 0.0066\n",
            "Epoch 82/150\n",
            "1875/1875 [==============================] - 3s 2ms/step - loss: 0.0067 - val_loss: 0.0067\n",
            "Epoch 83/150\n",
            "1875/1875 [==============================] - 4s 2ms/step - loss: 0.0067 - val_loss: 0.0066\n",
            "Epoch 84/150\n",
            "1875/1875 [==============================] - 4s 2ms/step - loss: 0.0067 - val_loss: 0.0066\n",
            "Epoch 85/150\n",
            "1875/1875 [==============================] - 3s 2ms/step - loss: 0.0067 - val_loss: 0.0065\n",
            "Epoch 86/150\n",
            "1875/1875 [==============================] - 4s 2ms/step - loss: 0.0067 - val_loss: 0.0065\n",
            "Epoch 87/150\n",
            "1875/1875 [==============================] - 4s 2ms/step - loss: 0.0067 - val_loss: 0.0066\n",
            "Epoch 88/150\n",
            "1875/1875 [==============================] - 4s 2ms/step - loss: 0.0067 - val_loss: 0.0066\n",
            "Epoch 89/150\n",
            "1875/1875 [==============================] - 3s 2ms/step - loss: 0.0067 - val_loss: 0.0065\n",
            "Epoch 90/150\n",
            "1875/1875 [==============================] - 3s 2ms/step - loss: 0.0067 - val_loss: 0.0065\n",
            "Epoch 91/150\n",
            "1875/1875 [==============================] - 3s 2ms/step - loss: 0.0067 - val_loss: 0.0066\n",
            "Epoch 92/150\n",
            "1875/1875 [==============================] - 4s 2ms/step - loss: 0.0067 - val_loss: 0.0066\n",
            "Epoch 93/150\n",
            "1875/1875 [==============================] - 4s 2ms/step - loss: 0.0067 - val_loss: 0.0066\n",
            "Epoch 94/150\n",
            "1875/1875 [==============================] - 4s 2ms/step - loss: 0.0067 - val_loss: 0.0065\n",
            "Epoch 95/150\n",
            "1875/1875 [==============================] - 4s 2ms/step - loss: 0.0067 - val_loss: 0.0065\n",
            "Epoch 96/150\n",
            "1875/1875 [==============================] - 4s 2ms/step - loss: 0.0067 - val_loss: 0.0066\n",
            "Epoch 97/150\n",
            "1875/1875 [==============================] - 3s 2ms/step - loss: 0.0067 - val_loss: 0.0066\n",
            "Epoch 98/150\n",
            "1875/1875 [==============================] - 4s 2ms/step - loss: 0.0067 - val_loss: 0.0065\n",
            "Epoch 99/150\n",
            "1875/1875 [==============================] - 3s 2ms/step - loss: 0.0067 - val_loss: 0.0066\n",
            "Epoch 100/150\n",
            "1875/1875 [==============================] - 4s 2ms/step - loss: 0.0067 - val_loss: 0.0066\n",
            "Epoch 101/150\n",
            "1875/1875 [==============================] - 4s 2ms/step - loss: 0.0067 - val_loss: 0.0066\n",
            "Epoch 102/150\n",
            "1875/1875 [==============================] - 4s 2ms/step - loss: 0.0067 - val_loss: 0.0066\n",
            "Epoch 103/150\n",
            "1875/1875 [==============================] - 3s 2ms/step - loss: 0.0067 - val_loss: 0.0065\n",
            "Epoch 104/150\n",
            "1875/1875 [==============================] - 4s 2ms/step - loss: 0.0067 - val_loss: 0.0065\n",
            "Epoch 105/150\n",
            "1875/1875 [==============================] - 4s 2ms/step - loss: 0.0067 - val_loss: 0.0065\n",
            "Epoch 106/150\n",
            "1875/1875 [==============================] - 4s 2ms/step - loss: 0.0067 - val_loss: 0.0066\n",
            "Epoch 107/150\n",
            "1875/1875 [==============================] - 4s 2ms/step - loss: 0.0067 - val_loss: 0.0065\n",
            "Epoch 108/150\n",
            "1875/1875 [==============================] - 4s 2ms/step - loss: 0.0067 - val_loss: 0.0066\n",
            "Epoch 109/150\n",
            "1875/1875 [==============================] - 4s 2ms/step - loss: 0.0067 - val_loss: 0.0065\n",
            "Epoch 110/150\n",
            "1875/1875 [==============================] - 4s 2ms/step - loss: 0.0067 - val_loss: 0.0066\n",
            "Epoch 111/150\n",
            "1875/1875 [==============================] - 4s 2ms/step - loss: 0.0066 - val_loss: 0.0064\n",
            "Epoch 112/150\n",
            "1875/1875 [==============================] - 4s 2ms/step - loss: 0.0067 - val_loss: 0.0065\n",
            "Epoch 113/150\n",
            "1875/1875 [==============================] - 4s 2ms/step - loss: 0.0067 - val_loss: 0.0066\n",
            "Epoch 114/150\n",
            "1875/1875 [==============================] - 4s 2ms/step - loss: 0.0066 - val_loss: 0.0065\n",
            "Epoch 115/150\n",
            "1875/1875 [==============================] - 4s 2ms/step - loss: 0.0066 - val_loss: 0.0065\n",
            "Epoch 116/150\n",
            "1875/1875 [==============================] - 4s 2ms/step - loss: 0.0067 - val_loss: 0.0065\n",
            "Epoch 117/150\n",
            "1875/1875 [==============================] - 4s 2ms/step - loss: 0.0066 - val_loss: 0.0065\n",
            "Epoch 118/150\n",
            "1875/1875 [==============================] - 3s 2ms/step - loss: 0.0067 - val_loss: 0.0065\n",
            "Epoch 119/150\n",
            "1875/1875 [==============================] - 4s 2ms/step - loss: 0.0066 - val_loss: 0.0064\n",
            "Epoch 120/150\n",
            "1875/1875 [==============================] - 4s 2ms/step - loss: 0.0066 - val_loss: 0.0065\n",
            "Epoch 121/150\n",
            "1875/1875 [==============================] - 4s 2ms/step - loss: 0.0066 - val_loss: 0.0065\n",
            "Epoch 122/150\n",
            "1875/1875 [==============================] - 4s 2ms/step - loss: 0.0066 - val_loss: 0.0065\n",
            "Epoch 123/150\n",
            "1875/1875 [==============================] - 4s 2ms/step - loss: 0.0066 - val_loss: 0.0065\n",
            "Epoch 124/150\n",
            "1875/1875 [==============================] - 3s 2ms/step - loss: 0.0066 - val_loss: 0.0065\n",
            "Epoch 125/150\n",
            "1875/1875 [==============================] - 4s 2ms/step - loss: 0.0066 - val_loss: 0.0065\n",
            "Epoch 126/150\n",
            "1875/1875 [==============================] - 4s 2ms/step - loss: 0.0066 - val_loss: 0.0065\n",
            "Epoch 127/150\n",
            "1875/1875 [==============================] - 4s 2ms/step - loss: 0.0066 - val_loss: 0.0065\n",
            "Epoch 128/150\n",
            "1875/1875 [==============================] - 4s 2ms/step - loss: 0.0066 - val_loss: 0.0064\n",
            "Epoch 129/150\n",
            "1875/1875 [==============================] - 3s 2ms/step - loss: 0.0066 - val_loss: 0.0065\n",
            "Epoch 130/150\n",
            "1875/1875 [==============================] - 4s 2ms/step - loss: 0.0066 - val_loss: 0.0065\n",
            "Epoch 131/150\n",
            "1875/1875 [==============================] - 4s 2ms/step - loss: 0.0066 - val_loss: 0.0065\n",
            "Epoch 132/150\n",
            "1875/1875 [==============================] - 4s 2ms/step - loss: 0.0066 - val_loss: 0.0065\n",
            "Epoch 133/150\n",
            "1875/1875 [==============================] - 4s 2ms/step - loss: 0.0066 - val_loss: 0.0065\n",
            "Epoch 134/150\n",
            "1875/1875 [==============================] - 3s 2ms/step - loss: 0.0066 - val_loss: 0.0064\n",
            "Epoch 135/150\n",
            "1875/1875 [==============================] - 4s 2ms/step - loss: 0.0066 - val_loss: 0.0065\n",
            "Epoch 136/150\n",
            "1875/1875 [==============================] - 4s 2ms/step - loss: 0.0066 - val_loss: 0.0065\n",
            "Epoch 137/150\n",
            "1875/1875 [==============================] - 4s 2ms/step - loss: 0.0066 - val_loss: 0.0064\n",
            "Epoch 138/150\n",
            "1875/1875 [==============================] - 4s 2ms/step - loss: 0.0066 - val_loss: 0.0064\n",
            "Epoch 139/150\n",
            "1875/1875 [==============================] - 4s 2ms/step - loss: 0.0066 - val_loss: 0.0065\n",
            "Epoch 140/150\n",
            "1875/1875 [==============================] - 4s 2ms/step - loss: 0.0066 - val_loss: 0.0064\n",
            "Epoch 141/150\n",
            "1875/1875 [==============================] - 3s 2ms/step - loss: 0.0066 - val_loss: 0.0065\n",
            "Epoch 142/150\n",
            "1875/1875 [==============================] - 4s 2ms/step - loss: 0.0066 - val_loss: 0.0065\n",
            "Epoch 143/150\n",
            "1875/1875 [==============================] - 3s 2ms/step - loss: 0.0066 - val_loss: 0.0065\n",
            "Epoch 144/150\n",
            "1875/1875 [==============================] - 4s 2ms/step - loss: 0.0066 - val_loss: 0.0064\n",
            "Epoch 145/150\n",
            "1875/1875 [==============================] - 4s 2ms/step - loss: 0.0066 - val_loss: 0.0064\n",
            "Epoch 146/150\n",
            "1875/1875 [==============================] - 4s 2ms/step - loss: 0.0066 - val_loss: 0.0064\n",
            "Epoch 147/150\n",
            "1875/1875 [==============================] - 4s 2ms/step - loss: 0.0066 - val_loss: 0.0065\n",
            "Epoch 148/150\n",
            "1875/1875 [==============================] - 3s 2ms/step - loss: 0.0066 - val_loss: 0.0064\n",
            "Epoch 149/150\n",
            "1875/1875 [==============================] - 4s 2ms/step - loss: 0.0065 - val_loss: 0.0064\n",
            "Epoch 150/150\n",
            "1875/1875 [==============================] - 4s 2ms/step - loss: 0.0066 - val_loss: 0.0065\n"
          ],
          "name": "stdout"
        }
      ]
    },
    {
      "cell_type": "code",
      "metadata": {
        "colab": {
          "base_uri": "https://localhost:8080/"
        },
        "id": "zARN4boGYVD7",
        "outputId": "b23e4957-063c-4180-bdf7-e798a57063a9"
      },
      "source": [
        "model1.summary()"
      ],
      "execution_count": null,
      "outputs": [
        {
          "output_type": "stream",
          "text": [
            "Model: \"model_1\"\n",
            "_________________________________________________________________\n",
            "Layer (type)                 Output Shape              Param #   \n",
            "=================================================================\n",
            "input_2 (InputLayer)         [(None, 784)]             0         \n",
            "_________________________________________________________________\n",
            "dense_4 (Dense)              (None, 200)               157000    \n",
            "_________________________________________________________________\n",
            "dense_5 (Dense)              (None, 100)               20100     \n",
            "_________________________________________________________________\n",
            "dense_6 (Dense)              (None, 200)               20200     \n",
            "_________________________________________________________________\n",
            "dense_7 (Dense)              (None, 784)               157584    \n",
            "=================================================================\n",
            "Total params: 354,884\n",
            "Trainable params: 354,884\n",
            "Non-trainable params: 0\n",
            "_________________________________________________________________\n"
          ],
          "name": "stdout"
        }
      ]
    },
    {
      "cell_type": "code",
      "metadata": {
        "id": "QObXtDqxW7o_"
      },
      "source": [
        "intermediate_layer_model = Model(inputs=model1.input, \n",
        "                                 outputs=model1.get_layer(\"dense_5\").output)"
      ],
      "execution_count": null,
      "outputs": []
    },
    {
      "cell_type": "code",
      "metadata": {
        "id": "drmBfPiyZIzs"
      },
      "source": [
        "code1_train = intermediate_layer_model.predict(X_train)\n",
        "code1_test = intermediate_layer_model.predict(X_test)"
      ],
      "execution_count": null,
      "outputs": []
    },
    {
      "cell_type": "code",
      "metadata": {
        "colab": {
          "base_uri": "https://localhost:8080/"
        },
        "id": "A4MHxM6iVoiW",
        "outputId": "bdd77fe3-aa7f-4ba8-fa49-d33baf1fde69"
      },
      "source": [
        "#autoencoder 1\n",
        "input_img2 = Input(shape=(100,))\n",
        "en2 = Dense(50,activation='relu')(input_img2)\n",
        "output2 = Dense(100,activation='relu')(en2)\n",
        "\n",
        "model2 = Model(inputs=input_img2,outputs=output2)\n",
        "model2.summary()\n",
        "model2.compile(optimizer='adam',loss='mse')\n"
      ],
      "execution_count": null,
      "outputs": [
        {
          "output_type": "stream",
          "text": [
            "Model: \"model_3\"\n",
            "_________________________________________________________________\n",
            "Layer (type)                 Output Shape              Param #   \n",
            "=================================================================\n",
            "input_3 (InputLayer)         [(None, 100)]             0         \n",
            "_________________________________________________________________\n",
            "dense_8 (Dense)              (None, 50)                5050      \n",
            "_________________________________________________________________\n",
            "dense_9 (Dense)              (None, 100)               5100      \n",
            "=================================================================\n",
            "Total params: 10,150\n",
            "Trainable params: 10,150\n",
            "Non-trainable params: 0\n",
            "_________________________________________________________________\n"
          ],
          "name": "stdout"
        }
      ]
    },
    {
      "cell_type": "code",
      "metadata": {
        "colab": {
          "base_uri": "https://localhost:8080/"
        },
        "id": "pj6zVx9CblUM",
        "outputId": "a4fb2de8-cabd-4144-dc64-c48c15439952"
      },
      "source": [
        "history2 = model2.fit(code1_train,code1_train,epochs=50,batch_size=32,validation_data=(code1_test,code1_test))"
      ],
      "execution_count": null,
      "outputs": [
        {
          "output_type": "stream",
          "text": [
            "Epoch 1/50\n",
            "1875/1875 [==============================] - 3s 2ms/step - loss: 0.1907 - val_loss: 0.0840\n",
            "Epoch 2/50\n",
            "1875/1875 [==============================] - 3s 1ms/step - loss: 0.0839 - val_loss: 0.0780\n",
            "Epoch 3/50\n",
            "1875/1875 [==============================] - 3s 2ms/step - loss: 0.0795 - val_loss: 0.0769\n",
            "Epoch 4/50\n",
            "1875/1875 [==============================] - 3s 1ms/step - loss: 0.0788 - val_loss: 0.0753\n",
            "Epoch 5/50\n",
            "1875/1875 [==============================] - 3s 1ms/step - loss: 0.0768 - val_loss: 0.0738\n",
            "Epoch 6/50\n",
            "1875/1875 [==============================] - 3s 1ms/step - loss: 0.0752 - val_loss: 0.0736\n",
            "Epoch 7/50\n",
            "1875/1875 [==============================] - 3s 1ms/step - loss: 0.0750 - val_loss: 0.0732\n",
            "Epoch 8/50\n",
            "1875/1875 [==============================] - 3s 2ms/step - loss: 0.0749 - val_loss: 0.0732\n",
            "Epoch 9/50\n",
            "1875/1875 [==============================] - 3s 1ms/step - loss: 0.0747 - val_loss: 0.0733\n",
            "Epoch 10/50\n",
            "1875/1875 [==============================] - 3s 2ms/step - loss: 0.0748 - val_loss: 0.0734\n",
            "Epoch 11/50\n",
            "1875/1875 [==============================] - 3s 2ms/step - loss: 0.0749 - val_loss: 0.0731\n",
            "Epoch 12/50\n",
            "1875/1875 [==============================] - 3s 2ms/step - loss: 0.0747 - val_loss: 0.0734\n",
            "Epoch 13/50\n",
            "1875/1875 [==============================] - 3s 1ms/step - loss: 0.0749 - val_loss: 0.0732\n",
            "Epoch 14/50\n",
            "1875/1875 [==============================] - 3s 1ms/step - loss: 0.0747 - val_loss: 0.0730\n",
            "Epoch 15/50\n",
            "1875/1875 [==============================] - 3s 1ms/step - loss: 0.0747 - val_loss: 0.0731\n",
            "Epoch 16/50\n",
            "1875/1875 [==============================] - 3s 1ms/step - loss: 0.0745 - val_loss: 0.0729\n",
            "Epoch 17/50\n",
            "1875/1875 [==============================] - 3s 1ms/step - loss: 0.0746 - val_loss: 0.0730\n",
            "Epoch 18/50\n",
            "1875/1875 [==============================] - 3s 2ms/step - loss: 0.0743 - val_loss: 0.0730\n",
            "Epoch 19/50\n",
            "1875/1875 [==============================] - 3s 2ms/step - loss: 0.0745 - val_loss: 0.0731\n",
            "Epoch 20/50\n",
            "1875/1875 [==============================] - 3s 2ms/step - loss: 0.0744 - val_loss: 0.0729\n",
            "Epoch 21/50\n",
            "1875/1875 [==============================] - 3s 1ms/step - loss: 0.0745 - val_loss: 0.0728\n",
            "Epoch 22/50\n",
            "1875/1875 [==============================] - 3s 2ms/step - loss: 0.0747 - val_loss: 0.0729\n",
            "Epoch 23/50\n",
            "1875/1875 [==============================] - 3s 1ms/step - loss: 0.0743 - val_loss: 0.0729\n",
            "Epoch 24/50\n",
            "1875/1875 [==============================] - 3s 2ms/step - loss: 0.0745 - val_loss: 0.0728\n",
            "Epoch 25/50\n",
            "1875/1875 [==============================] - 3s 1ms/step - loss: 0.0742 - val_loss: 0.0728\n",
            "Epoch 26/50\n",
            "1875/1875 [==============================] - 3s 2ms/step - loss: 0.0744 - val_loss: 0.0728\n",
            "Epoch 27/50\n",
            "1875/1875 [==============================] - 3s 1ms/step - loss: 0.0743 - val_loss: 0.0729\n",
            "Epoch 28/50\n",
            "1875/1875 [==============================] - 3s 1ms/step - loss: 0.0742 - val_loss: 0.0728\n",
            "Epoch 29/50\n",
            "1875/1875 [==============================] - 3s 1ms/step - loss: 0.0742 - val_loss: 0.0729\n",
            "Epoch 30/50\n",
            "1875/1875 [==============================] - 3s 1ms/step - loss: 0.0742 - val_loss: 0.0727\n",
            "Epoch 31/50\n",
            "1875/1875 [==============================] - 3s 1ms/step - loss: 0.0742 - val_loss: 0.0729\n",
            "Epoch 32/50\n",
            "1875/1875 [==============================] - 3s 1ms/step - loss: 0.0743 - val_loss: 0.0728\n",
            "Epoch 33/50\n",
            "1875/1875 [==============================] - 3s 1ms/step - loss: 0.0743 - val_loss: 0.0727\n",
            "Epoch 34/50\n",
            "1875/1875 [==============================] - 3s 1ms/step - loss: 0.0744 - val_loss: 0.0727\n",
            "Epoch 35/50\n",
            "1875/1875 [==============================] - 3s 2ms/step - loss: 0.0741 - val_loss: 0.0728\n",
            "Epoch 36/50\n",
            "1875/1875 [==============================] - 3s 1ms/step - loss: 0.0742 - val_loss: 0.0729\n",
            "Epoch 37/50\n",
            "1875/1875 [==============================] - 3s 1ms/step - loss: 0.0742 - val_loss: 0.0726\n",
            "Epoch 38/50\n",
            "1875/1875 [==============================] - 3s 1ms/step - loss: 0.0744 - val_loss: 0.0727\n",
            "Epoch 39/50\n",
            "1875/1875 [==============================] - 3s 1ms/step - loss: 0.0741 - val_loss: 0.0728\n",
            "Epoch 40/50\n",
            "1875/1875 [==============================] - 3s 1ms/step - loss: 0.0743 - val_loss: 0.0728\n",
            "Epoch 41/50\n",
            "1875/1875 [==============================] - 3s 2ms/step - loss: 0.0743 - val_loss: 0.0727\n",
            "Epoch 42/50\n",
            "1875/1875 [==============================] - 3s 1ms/step - loss: 0.0744 - val_loss: 0.0729\n",
            "Epoch 43/50\n",
            "1875/1875 [==============================] - 3s 1ms/step - loss: 0.0744 - val_loss: 0.0727\n",
            "Epoch 44/50\n",
            "1875/1875 [==============================] - 3s 2ms/step - loss: 0.0740 - val_loss: 0.0727\n",
            "Epoch 45/50\n",
            "1875/1875 [==============================] - 3s 1ms/step - loss: 0.0742 - val_loss: 0.0726\n",
            "Epoch 46/50\n",
            "1875/1875 [==============================] - 3s 1ms/step - loss: 0.0743 - val_loss: 0.0727\n",
            "Epoch 47/50\n",
            "1875/1875 [==============================] - 3s 2ms/step - loss: 0.0742 - val_loss: 0.0727\n",
            "Epoch 48/50\n",
            "1875/1875 [==============================] - 3s 1ms/step - loss: 0.0743 - val_loss: 0.0727\n",
            "Epoch 49/50\n",
            "1875/1875 [==============================] - 3s 1ms/step - loss: 0.0739 - val_loss: 0.0727\n",
            "Epoch 50/50\n",
            "1875/1875 [==============================] - 3s 2ms/step - loss: 0.0742 - val_loss: 0.0727\n"
          ],
          "name": "stdout"
        }
      ]
    },
    {
      "cell_type": "code",
      "metadata": {
        "id": "wHhgeFHpcgkl"
      },
      "source": [
        "intermediate_layer_model2 = Model(inputs=model2.input, \n",
        "                                 outputs=model2.get_layer(\"dense_8\").output)"
      ],
      "execution_count": null,
      "outputs": []
    },
    {
      "cell_type": "code",
      "metadata": {
        "id": "BXM0_6QrHbEt",
        "colab": {
          "base_uri": "https://localhost:8080/"
        },
        "outputId": "97b3eb1a-b9c4-4f09-8c4d-23fc2bd1c28d"
      },
      "source": [
        "intermediate_layer_model2.summary()"
      ],
      "execution_count": null,
      "outputs": [
        {
          "output_type": "stream",
          "text": [
            "Model: \"model_4\"\n",
            "_________________________________________________________________\n",
            "Layer (type)                 Output Shape              Param #   \n",
            "=================================================================\n",
            "input_3 (InputLayer)         [(None, 100)]             0         \n",
            "_________________________________________________________________\n",
            "dense_8 (Dense)              (None, 50)                5050      \n",
            "=================================================================\n",
            "Total params: 5,050\n",
            "Trainable params: 5,050\n",
            "Non-trainable params: 0\n",
            "_________________________________________________________________\n"
          ],
          "name": "stdout"
        }
      ]
    },
    {
      "cell_type": "code",
      "metadata": {
        "id": "GCIG98Raco_R"
      },
      "source": [
        "code2_train = intermediate_layer_model2.predict(code1_train)\n",
        "code2_test = intermediate_layer_model2.predict(code1_test)"
      ],
      "execution_count": null,
      "outputs": []
    },
    {
      "cell_type": "code",
      "metadata": {
        "id": "52VXee9BcxLB",
        "colab": {
          "base_uri": "https://localhost:8080/"
        },
        "outputId": "50f404d0-9b2d-464a-97f6-dee6bb8909e3"
      },
      "source": [
        "code2_train.shape"
      ],
      "execution_count": null,
      "outputs": [
        {
          "output_type": "execute_result",
          "data": {
            "text/plain": [
              "(60000, 50)"
            ]
          },
          "metadata": {
            "tags": []
          },
          "execution_count": 23
        }
      ]
    },
    {
      "cell_type": "code",
      "metadata": {
        "id": "r1t2B4rbb2Yx",
        "colab": {
          "base_uri": "https://localhost:8080/"
        },
        "outputId": "f4ba0ab5-0252-43b6-9072-81129a515956"
      },
      "source": [
        "#autoencoder 1\n",
        "input_img3 = Input(shape=(50,))\n",
        "en3 = Dense(30,activation='relu')(input_img3)\n",
        "output3 = Dense(50,activation='relu')(en3)\n",
        "\n",
        "model3 = Model(inputs=input_img3,outputs=output3)\n",
        "model3.summary()\n",
        "model3.compile(optimizer='adam',loss='mse')\n"
      ],
      "execution_count": null,
      "outputs": [
        {
          "output_type": "stream",
          "text": [
            "Model: \"model_5\"\n",
            "_________________________________________________________________\n",
            "Layer (type)                 Output Shape              Param #   \n",
            "=================================================================\n",
            "input_4 (InputLayer)         [(None, 50)]              0         \n",
            "_________________________________________________________________\n",
            "dense_10 (Dense)             (None, 30)                1530      \n",
            "_________________________________________________________________\n",
            "dense_11 (Dense)             (None, 50)                1550      \n",
            "=================================================================\n",
            "Total params: 3,080\n",
            "Trainable params: 3,080\n",
            "Non-trainable params: 0\n",
            "_________________________________________________________________\n"
          ],
          "name": "stdout"
        }
      ]
    },
    {
      "cell_type": "code",
      "metadata": {
        "colab": {
          "base_uri": "https://localhost:8080/"
        },
        "id": "TkB1qyq8ccbk",
        "outputId": "8a0d6550-5afb-486b-8ef3-3b1e54a1c9eb"
      },
      "source": [
        "history3 = model3.fit(code2_train,code2_train,epochs=100,batch_size=32,validation_data=(code2_test,code2_test))"
      ],
      "execution_count": null,
      "outputs": [
        {
          "output_type": "stream",
          "text": [
            "Epoch 1/100\n",
            "1875/1875 [==============================] - 3s 2ms/step - loss: 0.0492 - val_loss: 0.0092\n",
            "Epoch 2/100\n",
            "1875/1875 [==============================] - 3s 1ms/step - loss: 0.0091 - val_loss: 0.0082\n",
            "Epoch 3/100\n",
            "1875/1875 [==============================] - 3s 1ms/step - loss: 0.0084 - val_loss: 0.0080\n",
            "Epoch 4/100\n",
            "1875/1875 [==============================] - 3s 1ms/step - loss: 0.0078 - val_loss: 0.0072\n",
            "Epoch 5/100\n",
            "1875/1875 [==============================] - 3s 1ms/step - loss: 0.0074 - val_loss: 0.0071\n",
            "Epoch 6/100\n",
            "1875/1875 [==============================] - 3s 1ms/step - loss: 0.0073 - val_loss: 0.0071\n",
            "Epoch 7/100\n",
            "1875/1875 [==============================] - 3s 1ms/step - loss: 0.0072 - val_loss: 0.0071\n",
            "Epoch 8/100\n",
            "1875/1875 [==============================] - 3s 2ms/step - loss: 0.0073 - val_loss: 0.0070\n",
            "Epoch 9/100\n",
            "1875/1875 [==============================] - 3s 1ms/step - loss: 0.0073 - val_loss: 0.0071\n",
            "Epoch 10/100\n",
            "1875/1875 [==============================] - 3s 1ms/step - loss: 0.0073 - val_loss: 0.0070\n",
            "Epoch 11/100\n",
            "1875/1875 [==============================] - 3s 1ms/step - loss: 0.0072 - val_loss: 0.0071\n",
            "Epoch 12/100\n",
            "1875/1875 [==============================] - 3s 1ms/step - loss: 0.0072 - val_loss: 0.0070\n",
            "Epoch 13/100\n",
            "1875/1875 [==============================] - 3s 1ms/step - loss: 0.0072 - val_loss: 0.0071\n",
            "Epoch 14/100\n",
            "1875/1875 [==============================] - 3s 1ms/step - loss: 0.0072 - val_loss: 0.0071\n",
            "Epoch 15/100\n",
            "1875/1875 [==============================] - 3s 2ms/step - loss: 0.0072 - val_loss: 0.0070\n",
            "Epoch 16/100\n",
            "1875/1875 [==============================] - 3s 2ms/step - loss: 0.0072 - val_loss: 0.0070\n",
            "Epoch 17/100\n",
            "1875/1875 [==============================] - 3s 2ms/step - loss: 0.0072 - val_loss: 0.0070\n",
            "Epoch 18/100\n",
            "1875/1875 [==============================] - 3s 2ms/step - loss: 0.0072 - val_loss: 0.0070\n",
            "Epoch 19/100\n",
            "1875/1875 [==============================] - 3s 2ms/step - loss: 0.0072 - val_loss: 0.0070\n",
            "Epoch 20/100\n",
            "1875/1875 [==============================] - 3s 1ms/step - loss: 0.0072 - val_loss: 0.0070\n",
            "Epoch 21/100\n",
            "1875/1875 [==============================] - 3s 2ms/step - loss: 0.0072 - val_loss: 0.0070\n",
            "Epoch 22/100\n",
            "1875/1875 [==============================] - 3s 2ms/step - loss: 0.0072 - val_loss: 0.0070\n",
            "Epoch 23/100\n",
            "1875/1875 [==============================] - 3s 2ms/step - loss: 0.0072 - val_loss: 0.0070\n",
            "Epoch 24/100\n",
            "1875/1875 [==============================] - 3s 1ms/step - loss: 0.0072 - val_loss: 0.0070\n",
            "Epoch 25/100\n",
            "1875/1875 [==============================] - 3s 1ms/step - loss: 0.0072 - val_loss: 0.0071\n",
            "Epoch 26/100\n",
            "1875/1875 [==============================] - 3s 1ms/step - loss: 0.0072 - val_loss: 0.0070\n",
            "Epoch 27/100\n",
            "1875/1875 [==============================] - 3s 1ms/step - loss: 0.0072 - val_loss: 0.0071\n",
            "Epoch 28/100\n",
            "1875/1875 [==============================] - 3s 2ms/step - loss: 0.0072 - val_loss: 0.0071\n",
            "Epoch 29/100\n",
            "1875/1875 [==============================] - 3s 1ms/step - loss: 0.0072 - val_loss: 0.0070\n",
            "Epoch 30/100\n",
            "1875/1875 [==============================] - 3s 2ms/step - loss: 0.0072 - val_loss: 0.0071\n",
            "Epoch 31/100\n",
            "1875/1875 [==============================] - 3s 2ms/step - loss: 0.0072 - val_loss: 0.0071\n",
            "Epoch 32/100\n",
            "1875/1875 [==============================] - 3s 1ms/step - loss: 0.0072 - val_loss: 0.0070\n",
            "Epoch 33/100\n",
            "1875/1875 [==============================] - 3s 1ms/step - loss: 0.0072 - val_loss: 0.0070\n",
            "Epoch 34/100\n",
            "1875/1875 [==============================] - 3s 1ms/step - loss: 0.0072 - val_loss: 0.0070\n",
            "Epoch 35/100\n",
            "1875/1875 [==============================] - 3s 1ms/step - loss: 0.0072 - val_loss: 0.0070\n",
            "Epoch 36/100\n",
            "1875/1875 [==============================] - 3s 1ms/step - loss: 0.0072 - val_loss: 0.0070\n",
            "Epoch 37/100\n",
            "1875/1875 [==============================] - 3s 1ms/step - loss: 0.0072 - val_loss: 0.0071\n",
            "Epoch 38/100\n",
            "1875/1875 [==============================] - 3s 1ms/step - loss: 0.0072 - val_loss: 0.0070\n",
            "Epoch 39/100\n",
            "1875/1875 [==============================] - 3s 1ms/step - loss: 0.0072 - val_loss: 0.0070\n",
            "Epoch 40/100\n",
            "1875/1875 [==============================] - 3s 1ms/step - loss: 0.0072 - val_loss: 0.0070\n",
            "Epoch 41/100\n",
            "1875/1875 [==============================] - 3s 1ms/step - loss: 0.0072 - val_loss: 0.0070\n",
            "Epoch 42/100\n",
            "1875/1875 [==============================] - 3s 1ms/step - loss: 0.0072 - val_loss: 0.0070\n",
            "Epoch 43/100\n",
            "1875/1875 [==============================] - 3s 2ms/step - loss: 0.0072 - val_loss: 0.0070\n",
            "Epoch 44/100\n",
            "1875/1875 [==============================] - 3s 1ms/step - loss: 0.0072 - val_loss: 0.0071\n",
            "Epoch 45/100\n",
            "1875/1875 [==============================] - 3s 1ms/step - loss: 0.0072 - val_loss: 0.0071\n",
            "Epoch 46/100\n",
            "1875/1875 [==============================] - 3s 1ms/step - loss: 0.0072 - val_loss: 0.0070\n",
            "Epoch 47/100\n",
            "1875/1875 [==============================] - 3s 1ms/step - loss: 0.0072 - val_loss: 0.0070\n",
            "Epoch 48/100\n",
            "1875/1875 [==============================] - 3s 1ms/step - loss: 0.0072 - val_loss: 0.0070\n",
            "Epoch 49/100\n",
            "1875/1875 [==============================] - 3s 1ms/step - loss: 0.0072 - val_loss: 0.0070\n",
            "Epoch 50/100\n",
            "1875/1875 [==============================] - 3s 1ms/step - loss: 0.0072 - val_loss: 0.0070\n",
            "Epoch 51/100\n",
            "1875/1875 [==============================] - 3s 2ms/step - loss: 0.0072 - val_loss: 0.0070\n",
            "Epoch 52/100\n",
            "1875/1875 [==============================] - 3s 1ms/step - loss: 0.0072 - val_loss: 0.0071\n",
            "Epoch 53/100\n",
            "1875/1875 [==============================] - 3s 1ms/step - loss: 0.0072 - val_loss: 0.0070\n",
            "Epoch 54/100\n",
            "1875/1875 [==============================] - 3s 1ms/step - loss: 0.0072 - val_loss: 0.0071\n",
            "Epoch 55/100\n",
            "1875/1875 [==============================] - 3s 2ms/step - loss: 0.0072 - val_loss: 0.0070\n",
            "Epoch 56/100\n",
            "1875/1875 [==============================] - 3s 1ms/step - loss: 0.0072 - val_loss: 0.0070\n",
            "Epoch 57/100\n",
            "1875/1875 [==============================] - 3s 1ms/step - loss: 0.0072 - val_loss: 0.0070\n",
            "Epoch 58/100\n",
            "1875/1875 [==============================] - 3s 1ms/step - loss: 0.0072 - val_loss: 0.0070\n",
            "Epoch 59/100\n",
            "1875/1875 [==============================] - 3s 1ms/step - loss: 0.0072 - val_loss: 0.0071\n",
            "Epoch 60/100\n",
            "1875/1875 [==============================] - 3s 1ms/step - loss: 0.0072 - val_loss: 0.0070\n",
            "Epoch 61/100\n",
            "1875/1875 [==============================] - 3s 1ms/step - loss: 0.0072 - val_loss: 0.0070\n",
            "Epoch 62/100\n",
            "1875/1875 [==============================] - 3s 1ms/step - loss: 0.0072 - val_loss: 0.0070\n",
            "Epoch 63/100\n",
            "1875/1875 [==============================] - 3s 1ms/step - loss: 0.0072 - val_loss: 0.0070\n",
            "Epoch 64/100\n",
            "1875/1875 [==============================] - 3s 1ms/step - loss: 0.0072 - val_loss: 0.0070\n",
            "Epoch 65/100\n",
            "1875/1875 [==============================] - 3s 2ms/step - loss: 0.0072 - val_loss: 0.0070\n",
            "Epoch 66/100\n",
            "1875/1875 [==============================] - 3s 1ms/step - loss: 0.0072 - val_loss: 0.0070\n",
            "Epoch 67/100\n",
            "1875/1875 [==============================] - 3s 2ms/step - loss: 0.0072 - val_loss: 0.0070\n",
            "Epoch 68/100\n",
            "1875/1875 [==============================] - 3s 2ms/step - loss: 0.0072 - val_loss: 0.0070\n",
            "Epoch 69/100\n",
            "1875/1875 [==============================] - 3s 1ms/step - loss: 0.0072 - val_loss: 0.0070\n",
            "Epoch 70/100\n",
            "1875/1875 [==============================] - 3s 2ms/step - loss: 0.0072 - val_loss: 0.0070\n",
            "Epoch 71/100\n",
            "1875/1875 [==============================] - 3s 1ms/step - loss: 0.0072 - val_loss: 0.0070\n",
            "Epoch 72/100\n",
            "1875/1875 [==============================] - 3s 1ms/step - loss: 0.0072 - val_loss: 0.0070\n",
            "Epoch 73/100\n",
            "1875/1875 [==============================] - 3s 2ms/step - loss: 0.0072 - val_loss: 0.0070\n",
            "Epoch 74/100\n",
            "1875/1875 [==============================] - 3s 1ms/step - loss: 0.0072 - val_loss: 0.0070\n",
            "Epoch 75/100\n",
            "1875/1875 [==============================] - 3s 1ms/step - loss: 0.0072 - val_loss: 0.0070\n",
            "Epoch 76/100\n",
            "1875/1875 [==============================] - 3s 1ms/step - loss: 0.0072 - val_loss: 0.0070\n",
            "Epoch 77/100\n",
            "1875/1875 [==============================] - 3s 1ms/step - loss: 0.0072 - val_loss: 0.0070\n",
            "Epoch 78/100\n",
            "1875/1875 [==============================] - 3s 2ms/step - loss: 0.0072 - val_loss: 0.0070\n",
            "Epoch 79/100\n",
            "1875/1875 [==============================] - 3s 1ms/step - loss: 0.0072 - val_loss: 0.0070\n",
            "Epoch 80/100\n",
            "1875/1875 [==============================] - 3s 1ms/step - loss: 0.0072 - val_loss: 0.0070\n",
            "Epoch 81/100\n",
            "1875/1875 [==============================] - 3s 1ms/step - loss: 0.0072 - val_loss: 0.0070\n",
            "Epoch 82/100\n",
            "1875/1875 [==============================] - 3s 2ms/step - loss: 0.0072 - val_loss: 0.0070\n",
            "Epoch 83/100\n",
            "1875/1875 [==============================] - 3s 1ms/step - loss: 0.0072 - val_loss: 0.0070\n",
            "Epoch 84/100\n",
            "1875/1875 [==============================] - 3s 1ms/step - loss: 0.0072 - val_loss: 0.0071\n",
            "Epoch 85/100\n",
            "1875/1875 [==============================] - 3s 1ms/step - loss: 0.0072 - val_loss: 0.0070\n",
            "Epoch 86/100\n",
            "1875/1875 [==============================] - 3s 2ms/step - loss: 0.0072 - val_loss: 0.0070\n",
            "Epoch 87/100\n",
            "1875/1875 [==============================] - 3s 1ms/step - loss: 0.0072 - val_loss: 0.0070\n",
            "Epoch 88/100\n",
            "1875/1875 [==============================] - 3s 1ms/step - loss: 0.0072 - val_loss: 0.0070\n",
            "Epoch 89/100\n",
            "1875/1875 [==============================] - 3s 2ms/step - loss: 0.0072 - val_loss: 0.0070\n",
            "Epoch 90/100\n",
            "1875/1875 [==============================] - 3s 2ms/step - loss: 0.0072 - val_loss: 0.0070\n",
            "Epoch 91/100\n",
            "1875/1875 [==============================] - 3s 1ms/step - loss: 0.0072 - val_loss: 0.0070\n",
            "Epoch 92/100\n",
            "1875/1875 [==============================] - 3s 1ms/step - loss: 0.0072 - val_loss: 0.0070\n",
            "Epoch 93/100\n",
            "1875/1875 [==============================] - 3s 1ms/step - loss: 0.0072 - val_loss: 0.0070\n",
            "Epoch 94/100\n",
            "1875/1875 [==============================] - 3s 2ms/step - loss: 0.0072 - val_loss: 0.0070\n",
            "Epoch 95/100\n",
            "1875/1875 [==============================] - 3s 2ms/step - loss: 0.0072 - val_loss: 0.0070\n",
            "Epoch 96/100\n",
            "1875/1875 [==============================] - 3s 1ms/step - loss: 0.0072 - val_loss: 0.0070\n",
            "Epoch 97/100\n",
            "1875/1875 [==============================] - 3s 1ms/step - loss: 0.0072 - val_loss: 0.0070\n",
            "Epoch 98/100\n",
            "1875/1875 [==============================] - 3s 1ms/step - loss: 0.0072 - val_loss: 0.0070\n",
            "Epoch 99/100\n",
            "1875/1875 [==============================] - 3s 1ms/step - loss: 0.0072 - val_loss: 0.0070\n",
            "Epoch 100/100\n",
            "1875/1875 [==============================] - 3s 1ms/step - loss: 0.0072 - val_loss: 0.0070\n"
          ],
          "name": "stdout"
        }
      ]
    },
    {
      "cell_type": "code",
      "metadata": {
        "id": "njIl15i_fCPW"
      },
      "source": [
        "decoder_input1 = Input(shape = (100,))\n",
        "next_layer = decoder_input1\n",
        "for layer in model1.layers[-2:]:\n",
        "    next_layer = layer(next_layer)\n",
        " \n",
        "decoder1 = Model(decoder_input1, next_layer)\n"
      ],
      "execution_count": null,
      "outputs": []
    },
    {
      "cell_type": "code",
      "metadata": {
        "id": "WBo2fh5wgOQr",
        "colab": {
          "base_uri": "https://localhost:8080/"
        },
        "outputId": "b0e67388-c973-4673-8c9f-4bf3d745ccf9"
      },
      "source": [
        "decoder1.summary()"
      ],
      "execution_count": null,
      "outputs": [
        {
          "output_type": "stream",
          "text": [
            "Model: \"model_6\"\n",
            "_________________________________________________________________\n",
            "Layer (type)                 Output Shape              Param #   \n",
            "=================================================================\n",
            "input_5 (InputLayer)         [(None, 100)]             0         \n",
            "_________________________________________________________________\n",
            "dense_6 (Dense)              (None, 200)               20200     \n",
            "_________________________________________________________________\n",
            "dense_7 (Dense)              (None, 784)               157584    \n",
            "=================================================================\n",
            "Total params: 177,784\n",
            "Trainable params: 177,784\n",
            "Non-trainable params: 0\n",
            "_________________________________________________________________\n"
          ],
          "name": "stdout"
        }
      ]
    },
    {
      "cell_type": "code",
      "metadata": {
        "id": "6l-zRbGng-v_",
        "colab": {
          "base_uri": "https://localhost:8080/"
        },
        "outputId": "ea6b4b7b-0c24-4962-b333-dfa06f93e822"
      },
      "source": [
        "decoder_input2 = Input(shape = (50,))\n",
        "next_layer2 = decoder_input2\n",
        "for layer in model2.layers[-1:]:\n",
        "    next_layer2 = layer(next_layer2)\n",
        " \n",
        "decoder2 = Model(decoder_input2, next_layer2)\n",
        "decoder2.summary()"
      ],
      "execution_count": null,
      "outputs": [
        {
          "output_type": "stream",
          "text": [
            "Model: \"model_7\"\n",
            "_________________________________________________________________\n",
            "Layer (type)                 Output Shape              Param #   \n",
            "=================================================================\n",
            "input_6 (InputLayer)         [(None, 50)]              0         \n",
            "_________________________________________________________________\n",
            "dense_9 (Dense)              (None, 100)               5100      \n",
            "=================================================================\n",
            "Total params: 5,100\n",
            "Trainable params: 5,100\n",
            "Non-trainable params: 0\n",
            "_________________________________________________________________\n"
          ],
          "name": "stdout"
        }
      ]
    },
    {
      "cell_type": "code",
      "metadata": {
        "id": "p76FqbmLdmq0"
      },
      "source": [
        "sample = X_train[0].reshape(1,-1)\n",
        "sample = intermediate_layer_model.predict(sample)#100\n",
        "sample = intermediate_layer_model2.predict(sample)#50\n",
        "sample = model3.predict(sample)#50\n",
        "sample = decoder2.predict(sample)\n",
        "sample = decoder1.predict(sample)"
      ],
      "execution_count": null,
      "outputs": []
    },
    {
      "cell_type": "code",
      "metadata": {
        "id": "xkXxpR2IheWI"
      },
      "source": [
        "sample = sample.reshape(28,28)"
      ],
      "execution_count": null,
      "outputs": []
    },
    {
      "cell_type": "code",
      "metadata": {
        "id": "g6Vv47Odhppz",
        "colab": {
          "base_uri": "https://localhost:8080/",
          "height": 282
        },
        "outputId": "68603079-7877-4622-d95d-883d4d941ff0"
      },
      "source": [
        "plt.imshow(sample)"
      ],
      "execution_count": null,
      "outputs": [
        {
          "output_type": "execute_result",
          "data": {
            "text/plain": [
              "<matplotlib.image.AxesImage at 0x7f6d88185290>"
            ]
          },
          "metadata": {
            "tags": []
          },
          "execution_count": 31
        },
        {
          "output_type": "display_data",
          "data": {
            "image/png": "[encoded data removed]",
            "text/plain": [
              "<Figure size 432x288 with 1 Axes>"
            ]
          },
          "metadata": {
            "tags": [],
            "needs_background": "light"
          }
        }
      ]
    },
    {
      "cell_type": "code",
      "metadata": {
        "id": "3K6HpmodI6pK"
      },
      "source": [
        "intermediate_layer_model3 = Model(inputs=model3.input, \n",
        "                                 outputs=model3.get_layer(\"dense_10\").output)"
      ],
      "execution_count": null,
      "outputs": []
    },
    {
      "cell_type": "code",
      "metadata": {
        "id": "hmb0YpqoJEi3",
        "colab": {
          "base_uri": "https://localhost:8080/"
        },
        "outputId": "0b1b8c4e-f4fc-4748-9a6a-070e5dca1c87"
      },
      "source": [
        "intermediate_layer_model3.summary()"
      ],
      "execution_count": null,
      "outputs": [
        {
          "output_type": "stream",
          "text": [
            "Model: \"model_8\"\n",
            "_________________________________________________________________\n",
            "Layer (type)                 Output Shape              Param #   \n",
            "=================================================================\n",
            "input_4 (InputLayer)         [(None, 50)]              0         \n",
            "_________________________________________________________________\n",
            "dense_10 (Dense)             (None, 30)                1530      \n",
            "=================================================================\n",
            "Total params: 1,530\n",
            "Trainable params: 1,530\n",
            "Non-trainable params: 0\n",
            "_________________________________________________________________\n"
          ],
          "name": "stdout"
        }
      ]
    },
    {
      "cell_type": "code",
      "metadata": {
        "id": "G-pf2FmOJJa7",
        "colab": {
          "base_uri": "https://localhost:8080/"
        },
        "outputId": "df60dba0-e3a2-430f-fb21-cc83e3ee71e6"
      },
      "source": [
        "latent_code_train = intermediate_layer_model3.predict(code2_train)\n",
        "latent_code_test = intermediate_layer_model3.predict(code2_test)"
      ],
      "execution_count": null,
      "outputs": [
        {
          "output_type": "stream",
          "text": [
            "WARNING:tensorflow:5 out of the last 319 calls to <function Model.make_predict_function.<locals>.predict_function at 0x7f6d981a9a70> triggered tf.function retracing. Tracing is expensive and the excessive number of tracings could be due to (1) creating @tf.function repeatedly in a loop, (2) passing tensors with different shapes, (3) passing Python objects instead of tensors. For (1), please define your @tf.function outside of the loop. For (2), @tf.function has experimental_relax_shapes=True option that relaxes argument shapes that can avoid unnecessary retracing. For (3), please refer to https://www.tensorflow.org/guide/function#controlling_retracing and https://www.tensorflow.org/api_docs/python/tf/function for  more details.\n"
          ],
          "name": "stdout"
        }
      ]
    },
    {
      "cell_type": "code",
      "metadata": {
        "id": "xyOG9_pKJfu7"
      },
      "source": [
        "from sklearn.ensemble import GradientBoostingClassifier\n",
        "clf = GradientBoostingClassifier(n_estimators=100, learning_rate=1.0,max_depth=3, random_state=0).fit(latent_code_train, y_train)"
      ],
      "execution_count": null,
      "outputs": []
    },
    {
      "cell_type": "code",
      "metadata": {
        "id": "UQ3vfZwIKa3i",
        "colab": {
          "base_uri": "https://localhost:8080/"
        },
        "outputId": "4d7b02f6-4293-474c-a3b2-5d96d8d25b58"
      },
      "source": [
        "clf.score(latent_code_test,y_test)"
      ],
      "execution_count": null,
      "outputs": [
        {
          "output_type": "execute_result",
          "data": {
            "text/plain": [
              "0.8919"
            ]
          },
          "metadata": {
            "tags": []
          },
          "execution_count": 63
        }
      ]
    },
    {
      "cell_type": "code",
      "metadata": {
        "colab": {
          "base_uri": "https://localhost:8080/"
        },
        "id": "DcuHbQFGpD9n",
        "outputId": "0c9e1fd8-dac4-4a71-8916-865bef71aefa"
      },
      "source": [
        "intermediate_layer_model.summary()"
      ],
      "execution_count": null,
      "outputs": [
        {
          "output_type": "stream",
          "text": [
            "Model: \"model_2\"\n",
            "_________________________________________________________________\n",
            "Layer (type)                 Output Shape              Param #   \n",
            "=================================================================\n",
            "input_2 (InputLayer)         [(None, 784)]             0         \n",
            "_________________________________________________________________\n",
            "dense_4 (Dense)              (None, 200)               157000    \n",
            "_________________________________________________________________\n",
            "dense_5 (Dense)              (None, 100)               20100     \n",
            "=================================================================\n",
            "Total params: 177,100\n",
            "Trainable params: 177,100\n",
            "Non-trainable params: 0\n",
            "_________________________________________________________________\n"
          ],
          "name": "stdout"
        }
      ]
    },
    {
      "cell_type": "code",
      "metadata": {
        "id": "CmN9vxxomyp0"
      },
      "source": [
        "fine_tuning = Sequential()\n"
      ],
      "execution_count": null,
      "outputs": []
    },
    {
      "cell_type": "code",
      "metadata": {
        "id": "Z9h4mmVbo9zu"
      },
      "source": [
        "fine_tuning.add(intermediate_layer_model)\n",
        "for i in intermediate_layer_model2.layers[1:]:\n",
        "  fine_tuning.add(i)\n",
        "for i in intermediate_layer_model3.layers[1:]:\n",
        "  fine_tuning.add(i)\n",
        "fine_tuning.add(Dense(10,activation='softmax'))"
      ],
      "execution_count": null,
      "outputs": []
    },
    {
      "cell_type": "code",
      "metadata": {
        "colab": {
          "base_uri": "https://localhost:8080/"
        },
        "id": "BWlU_oeWqFBR",
        "outputId": "6fdc07e8-a51d-44c7-de34-c793ad82fe14"
      },
      "source": [
        "fine_tuning.summary()"
      ],
      "execution_count": null,
      "outputs": [
        {
          "output_type": "stream",
          "text": [
            "Model: \"sequential_2\"\n",
            "_________________________________________________________________\n",
            "Layer (type)                 Output Shape              Param #   \n",
            "=================================================================\n",
            "model_2 (Functional)         (None, 100)               177100    \n",
            "_________________________________________________________________\n",
            "dense_8 (Dense)              (None, 50)                5050      \n",
            "_________________________________________________________________\n",
            "dense_10 (Dense)             (None, 30)                1530      \n",
            "_________________________________________________________________\n",
            "dense_13 (Dense)             (None, 10)                310       \n",
            "=================================================================\n",
            "Total params: 183,990\n",
            "Trainable params: 183,990\n",
            "Non-trainable params: 0\n",
            "_________________________________________________________________\n"
          ],
          "name": "stdout"
        }
      ]
    },
    {
      "cell_type": "code",
      "metadata": {
        "id": "1mAGNq_9qLnl"
      },
      "source": [
        "fine_tuning.compile(optimizer='adam',loss='categorical_crossentropy',metrics=['accuracy'])"
      ],
      "execution_count": null,
      "outputs": []
    },
    {
      "cell_type": "code",
      "metadata": {
        "id": "AvtJf043qnFf"
      },
      "source": [
        "y_train_cat = to_categorical(y_train)\n",
        "y_test_cat = to_categorical(y_test)"
      ],
      "execution_count": null,
      "outputs": []
    },
    {
      "cell_type": "code",
      "metadata": {
        "colab": {
          "base_uri": "https://localhost:8080/"
        },
        "id": "31kGV4vprBsS",
        "outputId": "ae8e0b35-ad44-44ca-a9dd-8e0562ba6292"
      },
      "source": [
        "y_train_cat"
      ],
      "execution_count": null,
      "outputs": [
        {
          "output_type": "execute_result",
          "data": {
            "text/plain": [
              "array([[0., 0., 0., ..., 0., 0., 0.],\n",
              "       [1., 0., 0., ..., 0., 0., 0.],\n",
              "       [0., 0., 0., ..., 0., 0., 0.],\n",
              "       ...,\n",
              "       [0., 0., 0., ..., 0., 0., 0.],\n",
              "       [0., 0., 0., ..., 0., 0., 0.],\n",
              "       [0., 0., 0., ..., 0., 1., 0.]], dtype=float32)"
            ]
          },
          "metadata": {
            "tags": []
          },
          "execution_count": 50
        }
      ]
    },
    {
      "cell_type": "code",
      "metadata": {
        "colab": {
          "base_uri": "https://localhost:8080/"
        },
        "id": "7Ngcri7PqW2h",
        "outputId": "8c38e7ce-c5bd-4ec1-84e6-59b756a1ed4f"
      },
      "source": [
        "fine_tuning.fit(X_train,y_train_cat,epochs=50,batch_size=32,validation_data=(X_test,y_test_cat))"
      ],
      "execution_count": null,
      "outputs": [
        {
          "output_type": "stream",
          "text": [
            "Epoch 1/50\n",
            "1875/1875 [==============================] - 5s 2ms/step - loss: 0.5072 - accuracy: 0.8431 - val_loss: 0.1254 - val_accuracy: 0.9618\n",
            "Epoch 2/50\n",
            "1875/1875 [==============================] - 4s 2ms/step - loss: 0.1042 - accuracy: 0.9685 - val_loss: 0.0961 - val_accuracy: 0.9714\n",
            "Epoch 3/50\n",
            "1875/1875 [==============================] - 5s 3ms/step - loss: 0.0692 - accuracy: 0.9787 - val_loss: 0.0800 - val_accuracy: 0.9762\n",
            "Epoch 4/50\n",
            "1875/1875 [==============================] - 5s 3ms/step - loss: 0.0483 - accuracy: 0.9845 - val_loss: 0.0816 - val_accuracy: 0.9761\n",
            "Epoch 5/50\n",
            "1875/1875 [==============================] - 5s 2ms/step - loss: 0.0372 - accuracy: 0.9879 - val_loss: 0.0849 - val_accuracy: 0.9772\n",
            "Epoch 6/50\n",
            "1875/1875 [==============================] - 5s 3ms/step - loss: 0.0307 - accuracy: 0.9908 - val_loss: 0.0885 - val_accuracy: 0.9764\n",
            "Epoch 7/50\n",
            "1875/1875 [==============================] - 5s 2ms/step - loss: 0.0286 - accuracy: 0.9905 - val_loss: 0.0835 - val_accuracy: 0.9791\n",
            "Epoch 8/50\n",
            "1875/1875 [==============================] - 5s 3ms/step - loss: 0.0225 - accuracy: 0.9929 - val_loss: 0.0962 - val_accuracy: 0.9767\n",
            "Epoch 9/50\n",
            "1875/1875 [==============================] - 5s 3ms/step - loss: 0.0197 - accuracy: 0.9937 - val_loss: 0.0788 - val_accuracy: 0.9807\n",
            "Epoch 10/50\n",
            "1875/1875 [==============================] - 5s 3ms/step - loss: 0.0181 - accuracy: 0.9944 - val_loss: 0.1052 - val_accuracy: 0.9760\n",
            "Epoch 11/50\n",
            "1875/1875 [==============================] - 5s 3ms/step - loss: 0.0159 - accuracy: 0.9951 - val_loss: 0.1063 - val_accuracy: 0.9748\n",
            "Epoch 12/50\n",
            "1875/1875 [==============================] - 5s 3ms/step - loss: 0.0136 - accuracy: 0.9957 - val_loss: 0.0976 - val_accuracy: 0.9781\n",
            "Epoch 13/50\n",
            "1875/1875 [==============================] - 5s 2ms/step - loss: 0.0173 - accuracy: 0.9949 - val_loss: 0.0938 - val_accuracy: 0.9796\n",
            "Epoch 14/50\n",
            "1875/1875 [==============================] - 5s 2ms/step - loss: 0.0102 - accuracy: 0.9967 - val_loss: 0.1164 - val_accuracy: 0.9789\n",
            "Epoch 15/50\n",
            "1875/1875 [==============================] - 5s 2ms/step - loss: 0.0129 - accuracy: 0.9960 - val_loss: 0.0966 - val_accuracy: 0.9805\n",
            "Epoch 16/50\n",
            "1875/1875 [==============================] - 5s 2ms/step - loss: 0.0122 - accuracy: 0.9956 - val_loss: 0.1212 - val_accuracy: 0.9773\n",
            "Epoch 17/50\n",
            "1875/1875 [==============================] - 5s 2ms/step - loss: 0.0106 - accuracy: 0.9968 - val_loss: 0.0929 - val_accuracy: 0.9817\n",
            "Epoch 18/50\n",
            "1875/1875 [==============================] - 5s 2ms/step - loss: 0.0094 - accuracy: 0.9971 - val_loss: 0.1123 - val_accuracy: 0.9796\n",
            "Epoch 19/50\n",
            "1875/1875 [==============================] - 5s 2ms/step - loss: 0.0100 - accuracy: 0.9967 - val_loss: 0.0894 - val_accuracy: 0.9816\n",
            "Epoch 20/50\n",
            "1875/1875 [==============================] - 5s 3ms/step - loss: 0.0111 - accuracy: 0.9965 - val_loss: 0.0903 - val_accuracy: 0.9831\n",
            "Epoch 21/50\n",
            "1875/1875 [==============================] - 5s 2ms/step - loss: 0.0062 - accuracy: 0.9980 - val_loss: 0.1120 - val_accuracy: 0.9806\n",
            "Epoch 22/50\n",
            "1875/1875 [==============================] - 5s 3ms/step - loss: 0.0105 - accuracy: 0.9970 - val_loss: 0.0932 - val_accuracy: 0.9817\n",
            "Epoch 23/50\n",
            "1875/1875 [==============================] - 5s 2ms/step - loss: 0.0064 - accuracy: 0.9981 - val_loss: 0.1155 - val_accuracy: 0.9788\n",
            "Epoch 24/50\n",
            "1875/1875 [==============================] - 5s 2ms/step - loss: 0.0100 - accuracy: 0.9972 - val_loss: 0.1006 - val_accuracy: 0.9805\n",
            "Epoch 25/50\n",
            "1875/1875 [==============================] - 5s 2ms/step - loss: 0.0063 - accuracy: 0.9983 - val_loss: 0.1146 - val_accuracy: 0.9806\n",
            "Epoch 26/50\n",
            "1875/1875 [==============================] - 5s 3ms/step - loss: 0.0078 - accuracy: 0.9978 - val_loss: 0.1322 - val_accuracy: 0.9774\n",
            "Epoch 27/50\n",
            "1875/1875 [==============================] - 5s 2ms/step - loss: 0.0082 - accuracy: 0.9975 - val_loss: 0.1200 - val_accuracy: 0.9816\n",
            "Epoch 28/50\n",
            "1875/1875 [==============================] - 5s 3ms/step - loss: 0.0068 - accuracy: 0.9981 - val_loss: 0.1358 - val_accuracy: 0.9791\n",
            "Epoch 29/50\n",
            "1875/1875 [==============================] - 5s 2ms/step - loss: 0.0085 - accuracy: 0.9972 - val_loss: 0.1179 - val_accuracy: 0.9820\n",
            "Epoch 30/50\n",
            "1875/1875 [==============================] - 5s 2ms/step - loss: 0.0062 - accuracy: 0.9985 - val_loss: 0.1257 - val_accuracy: 0.9818\n",
            "Epoch 31/50\n",
            "1875/1875 [==============================] - 5s 2ms/step - loss: 0.0063 - accuracy: 0.9983 - val_loss: 0.1153 - val_accuracy: 0.9816\n",
            "Epoch 32/50\n",
            "1875/1875 [==============================] - 5s 2ms/step - loss: 0.0053 - accuracy: 0.9985 - val_loss: 0.1391 - val_accuracy: 0.9824\n",
            "Epoch 33/50\n",
            "1875/1875 [==============================] - 5s 3ms/step - loss: 0.0064 - accuracy: 0.9982 - val_loss: 0.1407 - val_accuracy: 0.9802\n",
            "Epoch 34/50\n",
            "1875/1875 [==============================] - 4s 2ms/step - loss: 0.0092 - accuracy: 0.9977 - val_loss: 0.1476 - val_accuracy: 0.9799\n",
            "Epoch 35/50\n",
            "1875/1875 [==============================] - 5s 3ms/step - loss: 0.0095 - accuracy: 0.9977 - val_loss: 0.1150 - val_accuracy: 0.9828\n",
            "Epoch 36/50\n",
            "1875/1875 [==============================] - 4s 2ms/step - loss: 0.0036 - accuracy: 0.9990 - val_loss: 0.1181 - val_accuracy: 0.9819\n",
            "Epoch 37/50\n",
            "1875/1875 [==============================] - 5s 2ms/step - loss: 0.0068 - accuracy: 0.9981 - val_loss: 0.1204 - val_accuracy: 0.9813\n",
            "Epoch 38/50\n",
            "1875/1875 [==============================] - 5s 2ms/step - loss: 0.0036 - accuracy: 0.9990 - val_loss: 0.1198 - val_accuracy: 0.9804\n",
            "Epoch 39/50\n",
            "1875/1875 [==============================] - 5s 3ms/step - loss: 0.0057 - accuracy: 0.9983 - val_loss: 0.1285 - val_accuracy: 0.9829\n",
            "Epoch 40/50\n",
            "1875/1875 [==============================] - 5s 2ms/step - loss: 0.0073 - accuracy: 0.9983 - val_loss: 0.1516 - val_accuracy: 0.9802\n",
            "Epoch 41/50\n",
            "1875/1875 [==============================] - 5s 2ms/step - loss: 0.0040 - accuracy: 0.9988 - val_loss: 0.1558 - val_accuracy: 0.9789\n",
            "Epoch 42/50\n",
            "1875/1875 [==============================] - 5s 2ms/step - loss: 0.0044 - accuracy: 0.9986 - val_loss: 0.1340 - val_accuracy: 0.9817\n",
            "Epoch 43/50\n",
            "1875/1875 [==============================] - 5s 3ms/step - loss: 0.0049 - accuracy: 0.9988 - val_loss: 0.1385 - val_accuracy: 0.9814\n",
            "Epoch 44/50\n",
            "1875/1875 [==============================] - 5s 2ms/step - loss: 0.0090 - accuracy: 0.9980 - val_loss: 0.1305 - val_accuracy: 0.9816\n",
            "Epoch 45/50\n",
            "1875/1875 [==============================] - 5s 2ms/step - loss: 0.0045 - accuracy: 0.9987 - val_loss: 0.1520 - val_accuracy: 0.9800\n",
            "Epoch 46/50\n",
            "1875/1875 [==============================] - 5s 3ms/step - loss: 0.0057 - accuracy: 0.9984 - val_loss: 0.1431 - val_accuracy: 0.9818\n",
            "Epoch 47/50\n",
            "1875/1875 [==============================] - 5s 3ms/step - loss: 0.0025 - accuracy: 0.9994 - val_loss: 0.1685 - val_accuracy: 0.9777\n",
            "Epoch 48/50\n",
            "1875/1875 [==============================] - 5s 2ms/step - loss: 0.0078 - accuracy: 0.9980 - val_loss: 0.1419 - val_accuracy: 0.9810\n",
            "Epoch 49/50\n",
            "1875/1875 [==============================] - 5s 3ms/step - loss: 0.0035 - accuracy: 0.9991 - val_loss: 0.1469 - val_accuracy: 0.9838\n",
            "Epoch 50/50\n",
            "1875/1875 [==============================] - 5s 2ms/step - loss: 0.0052 - accuracy: 0.9987 - val_loss: 0.1394 - val_accuracy: 0.9840\n"
          ],
          "name": "stdout"
        },
        {
          "output_type": "execute_result",
          "data": {
            "text/plain": [
              "<tensorflow.python.keras.callbacks.History at 0x7f6d6531d090>"
            ]
          },
          "metadata": {
            "tags": []
          },
          "execution_count": 61
        }
      ]
    }
  ]
}