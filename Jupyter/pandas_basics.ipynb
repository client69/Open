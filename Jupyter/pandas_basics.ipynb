{
 "cells": [
  {
   "cell_type": "code",
   "execution_count": 59,
   "metadata": {},
   "outputs": [
    {
     "name": "stdout",
     "output_type": "stream",
     "text": [
      "Empty DataFrame\n",
      "Columns: []\n",
      "Index: []\n",
      "   Nmae  AA  AOS  CVIP\n",
      "0  amar  25   54    75\n",
      "1  sonu  54   65    45\n",
      "2  monu  54   24    65\n",
      "(3, 4)\n",
      "     Nmae  AA  AOS  CVIP\n",
      "0    amar  25   54    75\n",
      "1    sonu  54   65    45\n",
      "2    monu  54   24    65\n",
      "0     das  65   98    75\n",
      "1    annu  56   84    69\n",
      "2  bansal  84   56    32\n",
      "    Name  Age Grades\n",
      "0   Amar   23      B\n",
      "1  Rahul   24      A\n",
      "2  Ankit   25      C\n",
      "3  Ayush   23      B\n",
      "  Name,Age,Grades\n",
      "0       Amar,23,B\n",
      "1      Rahul,24,A\n",
      "2      Ankit,25,C\n",
      "3      Ayush,23,B\n",
      "       0    1       2\n",
      "0   Name  Age  Grades\n",
      "1   Amar   23       B\n",
      "2  Rahul   24       A\n",
      "3  Ankit   25       C\n",
      "4  Ayush   23       B\n",
      "dataframe empty : False\n",
      "   Unnamed: 0    Nmae  AA  AOS  CVIP\n",
      "0           0    amar  25   54    75\n",
      "1           1    sonu  54   65    45\n",
      "2           2    monu  54   24    65\n",
      "3           0     das  65   98    75\n",
      "4           1    annu  56   84    69\n",
      "5           2  bansal  84   56    32\n"
     ]
    }
   ],
   "source": [
    "import pandas as pd\n",
    "\n",
    "df = pd.DataFrame() #creating empty dataframe\n",
    "print(df)\n",
    "\n",
    "#Create and initialize dataframe\n",
    "dataf = pd.DataFrame([['amar',25,54,75],['sonu',54,65,45],['monu',54,24,65]],columns = ['Nmae','AA','AOS','CVIP'])\n",
    "print(dataf)\n",
    "\n",
    "shape = dataf.shape #shape\n",
    "print(shape)\n",
    "\n",
    "dataf_new = pd.DataFrame([['das',65,98,75],['annu',56,84,69],['bansal',84,56,32]],columns = ['Nmae','AA','AOS','CVIP'])\n",
    "\n",
    "frames = [dataf,dataf_new]\n",
    "df_new = pd.concat(frames)#concatinate\n",
    "print(df_new)\n",
    "\n",
    "myfile = pd.read_csv('data.csv')   #import csv file and read csv file\n",
    "print(myfile.head())\n",
    "\n",
    "df = pd.read_csv('data.csv',delimiter = ' ')# Load DataFrame from CSV file data with specific delimiter\n",
    "print(df)\n",
    "\n",
    "df = pd.read_csv('data.csv',header = None)#Load DataFrame from CSV with no header\n",
    "print(df)\n",
    "\n",
    "isempty = df.empty #check dataframe is empty or not\n",
    "print(\"dataframe empty :\",isempty)\n",
    "\n",
    "df_new.to_csv('export.csv')#export csv file\n",
    "df2 = pd.read_csv('export.csv') #read exported csv file\n",
    "print(df2)"
   ]
  },
  {
   "cell_type": "code",
   "execution_count": null,
   "metadata": {
    "scrolled": true
   },
   "outputs": [],
   "source": []
  },
  {
   "cell_type": "code",
   "execution_count": null,
   "metadata": {},
   "outputs": [],
   "source": []
  },
  {
   "cell_type": "code",
   "execution_count": null,
   "metadata": {},
   "outputs": [],
   "source": []
  },
  {
   "cell_type": "code",
   "execution_count": null,
   "metadata": {},
   "outputs": [],
   "source": []
  },
  {
   "cell_type": "code",
   "execution_count": null,
   "metadata": {},
   "outputs": [],
   "source": []
  }
 ],
 "metadata": {
  "kernelspec": {
   "display_name": "Python 3",
   "language": "python",
   "name": "python3"
  },
  "language_info": {
   "codemirror_mode": {
    "name": "ipython",
    "version": 3
   },
   "file_extension": ".py",
   "mimetype": "text/x-python",
   "name": "python",
   "nbconvert_exporter": "python",
   "pygments_lexer": "ipython3",
   "version": "3.7.6"
  }
 },
 "nbformat": 4,
 "nbformat_minor": 4
}
