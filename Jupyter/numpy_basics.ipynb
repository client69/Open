{
 "cells": [
  {
   "cell_type": "code",
   "execution_count": 7,
   "metadata": {},
   "outputs": [
    {
     "name": "stdout",
     "output_type": "stream",
     "text": [
      "[[ 4  6 10]\n",
      " [ 8 10 12]]\n",
      "[[ 0  0 -3]\n",
      " [-1 -2  3]]\n",
      "multiplication of arr2 and arr3 :\n",
      "[[ 4  9 40]\n",
      " [20 35 18]]\n",
      "[[1.         1.         0.625     ]\n",
      " [0.8        0.71428571 2.        ]]\n",
      "transpose of matrix is : [[2 4]\n",
      " [3 5]\n",
      " [5 6]]\n",
      "[[-4.   1. ]\n",
      " [ 2.5 -0.5]]\n"
     ]
    }
   ],
   "source": [
    "import numpy as np\n",
    "\n",
    "arr1 = np.array([1,5,8])\n",
    "arr2 = np.array([[2,3,5],[4,5,6]]) #2x3 array\n",
    "arr3 = np.array([[2,3,8],[5,7,3]])\n",
    "arr4 = np.array([[1,2],[5,8]])\n",
    "\n",
    "print(np.add(arr2,arr2))\n",
    "print(np.subtract(arr2,arr3))\n",
    "print(\"multiplication of arr2 and arr3 :\")\n",
    "print(np.multiply(arr2,arr3))\n",
    "print(np.divide(arr2,arr3))\n",
    "print(\"transpose of matrix is :\",arr2.T)\n",
    "print(np.linalg.inv(arr4))"
   ]
  },
  {
   "cell_type": "code",
   "execution_count": null,
   "metadata": {},
   "outputs": [],
   "source": []
  },
  {
   "cell_type": "code",
   "execution_count": null,
   "metadata": {},
   "outputs": [],
   "source": []
  }
 ],
 "metadata": {
  "kernelspec": {
   "display_name": "Python 3",
   "language": "python",
   "name": "python3"
  },
  "language_info": {
   "codemirror_mode": {
    "name": "ipython",
    "version": 3
   },
   "file_extension": ".py",
   "mimetype": "text/x-python",
   "name": "python",
   "nbconvert_exporter": "python",
   "pygments_lexer": "ipython3",
   "version": "3.7.6"
  }
 },
 "nbformat": 4,
 "nbformat_minor": 4
}
