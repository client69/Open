{
 "cells": [
  {
   "cell_type": "code",
   "execution_count": 55,
   "metadata": {},
   "outputs": [
    {
     "name": "stdout",
     "output_type": "stream",
     "text": [
      "type of list is:  <class 'list'>\n",
      "size of list:  5\n",
      "updated list:  [5, 2, 3, 'a', 'b']\n",
      "slicing  [5, 2]\n",
      "slicing  [3, 'a', 'b']\n",
      "extended list:  [5, 2, 3, 'a', 'b', 2, 6, 'a', 'b']\n",
      "reversed list:  ['b', 'a', 6, 2, 'b', 'a', 3, 2, 5]\n",
      "type of arr1 is:  <class 'numpy.ndarray'>\n",
      "size of arr1 is:  3\n",
      "(3,)\n",
      "type of arr2:  <class 'numpy.ndarray'>\n",
      "(3,)\n",
      "[ 3  8 13]\n",
      "[-1  2  3]\n",
      "[ 2 15 40]\n"
     ]
    }
   ],
   "source": [
    "import numpy as np\n",
    "list = [1,2,3,'a','b']\n",
    "list2 = [2,6,'a','b']\n",
    "arr1 = np.array([1,5,8])\n",
    "arr2 = np.array([2,3,5]) \n",
    "\n",
    "\n",
    "\n",
    "print(\"type of list is: \",type(list))\n",
    "print(\"size of list: \",len(list))  # size of list\n",
    "list[0] = list[1]+list[2]\n",
    "print(\"updated list: \",list)\n",
    "print(\"slicing \",list[:2])\n",
    "print(\"slicing \",list[2:])\n",
    "list.extend(list2)\n",
    "print(\"extended list: \",list)\n",
    "list.reverse()\n",
    "print(\"reversed list: \",list)\n",
    "\n",
    "\n",
    "\n",
    "\n",
    "print(\"type of arr1 is: \",type(arr1)) #type of arr\n",
    "print(\"size of arr1 is: \",len(arr1)) #size of array\n",
    "print(arr1.shape) #shape of arr1\n",
    "\n",
    "print(\"type of arr2: \",type(arr2))\n",
    "print(arr2.shape)\n",
    "print(arr1+arr2)\n",
    "print(arr1-arr2)\n",
    "print(arr1*arr2)\n",
    "\n"
   ]
  },
  {
   "cell_type": "code",
   "execution_count": null,
   "metadata": {},
   "outputs": [],
   "source": []
  },
  {
   "cell_type": "code",
   "execution_count": null,
   "metadata": {},
   "outputs": [],
   "source": []
  },
  {
   "cell_type": "code",
   "execution_count": null,
   "metadata": {},
   "outputs": [],
   "source": []
  }
 ],
 "metadata": {
  "kernelspec": {
   "display_name": "Python 3",
   "language": "python",
   "name": "python3"
  },
  "language_info": {
   "codemirror_mode": {
    "name": "ipython",
    "version": 3
   },
   "file_extension": ".py",
   "mimetype": "text/x-python",
   "name": "python",
   "nbconvert_exporter": "python",
   "pygments_lexer": "ipython3",
   "version": "3.7.6"
  }
 },
 "nbformat": 4,
 "nbformat_minor": 4
}
